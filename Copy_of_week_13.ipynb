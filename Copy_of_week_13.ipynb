{
  "nbformat": 4,
  "nbformat_minor": 0,
  "metadata": {
    "colab": {
      "provenance": [],
      "include_colab_link": true
    },
    "kernelspec": {
      "name": "ir",
      "display_name": "R"
    },
    "language_info": {
      "name": "R"
    }
  },
  "cells": [
    {
      "cell_type": "markdown",
      "metadata": {
        "id": "view-in-github",
        "colab_type": "text"
      },
      "source": [
        "<a href=\"https://colab.research.google.com/github/sahana-krishnaraj/ds-1002/blob/main/Copy_of_week_13.ipynb\" target=\"_parent\"><img src=\"https://colab.research.google.com/assets/colab-badge.svg\" alt=\"Open In Colab\"/></a>"
      ]
    },
    {
      "cell_type": "markdown",
      "source": [
        "# Homework - Week 13\n",
        "\n",
        "Complete the following blocks as specified in the directions. Run each cell to return the desired output. Save your notebook back to your GitHub repository and submit the GitHub URL to your notebook for review."
      ],
      "metadata": {
        "id": "sZruw3XQogej"
      }
    },
    {
      "cell_type": "markdown",
      "source": [
        "## 1. Change Runtime to R (1 pt)\n",
        "\n",
        "Change the runtime of this notebook to R. You can verify that you are running R by displaying the current version you are running. Run the cell below and show the output."
      ],
      "metadata": {
        "id": "KmpG99aAokL9"
      }
    },
    {
      "cell_type": "code",
      "execution_count": null,
      "metadata": {
        "id": "k03Z1NKAoZrW",
        "outputId": "9e3c6ce1-6666-4df9-830b-8e27c6ef8aef",
        "colab": {
          "base_uri": "https://localhost:8080/",
          "height": 277
        }
      },
      "outputs": [
        {
          "output_type": "display_data",
          "data": {
            "text/plain": [
              "               _                           \n",
              "platform       x86_64-pc-linux-gnu         \n",
              "arch           x86_64                      \n",
              "os             linux-gnu                   \n",
              "system         x86_64, linux-gnu           \n",
              "status                                     \n",
              "major          4                           \n",
              "minor          3.2                         \n",
              "year           2023                        \n",
              "month          10                          \n",
              "day            31                          \n",
              "svn rev        85441                       \n",
              "language       R                           \n",
              "version.string R version 4.3.2 (2023-10-31)\n",
              "nickname       Eye Holes                   "
            ]
          },
          "metadata": {}
        }
      ],
      "source": [
        "version"
      ]
    },
    {
      "cell_type": "markdown",
      "source": [
        "## 2. Create Vectors (2 pts)\n",
        "\n",
        "Create two vectors in the cells below, according to the prompts given."
      ],
      "metadata": {
        "id": "lkaofBQypx1X"
      }
    },
    {
      "cell_type": "code",
      "source": [
        "# create a vector with 7 integer values. Assign it to a variable named \"my_integers\"\n",
        "my_integers <- c(1,2,3,4,5,6,7)\n",
        "my_integers"
      ],
      "metadata": {
        "id": "1fjq5bkEp6Zv",
        "outputId": "866a24df-b03f-4c80-bcaa-45768463cfd0",
        "colab": {
          "base_uri": "https://localhost:8080/",
          "height": 34
        }
      },
      "execution_count": null,
      "outputs": [
        {
          "output_type": "display_data",
          "data": {
            "text/html": [
              "<style>\n",
              ".list-inline {list-style: none; margin:0; padding: 0}\n",
              ".list-inline>li {display: inline-block}\n",
              ".list-inline>li:not(:last-child)::after {content: \"\\00b7\"; padding: 0 .5ex}\n",
              "</style>\n",
              "<ol class=list-inline><li>1</li><li>2</li><li>3</li><li>4</li><li>5</li><li>6</li><li>7</li></ol>\n"
            ],
            "text/markdown": "1. 1\n2. 2\n3. 3\n4. 4\n5. 5\n6. 6\n7. 7\n\n\n",
            "text/latex": "\\begin{enumerate*}\n\\item 1\n\\item 2\n\\item 3\n\\item 4\n\\item 5\n\\item 6\n\\item 7\n\\end{enumerate*}\n",
            "text/plain": [
              "[1] 1 2 3 4 5 6 7"
            ]
          },
          "metadata": {}
        }
      ]
    },
    {
      "cell_type": "code",
      "source": [
        "var1 = 8\n",
        "var2 = 4\n",
        "var3 = 12\n",
        "var4 = 25\n",
        "\n",
        "# Using the variables given above, assign three new variables the following calculated values:\n",
        "# 1. Your first variable should be assigned the calculated value of var2 divided by var1.\n",
        "v1 <- var2/var1\n",
        "# 2. Your second variable should be assigned the calculated value of var2 cubed times var3.\n",
        "v2 <- ((var2^3)*var3)\n",
        "# 3. Your third variable should be assigned the calculated value of var4 integer divided by var3.\n",
        "v3 <- var4/var3\n",
        "# Next, create an array populated by your three variables. Assign the array to a new variable named \"my_calculated_values\"\n",
        "my_calculated_values <- array(c(v1,v2,v3))\n",
        "my_calculated_values"
      ],
      "metadata": {
        "id": "f3IFD-T6p6Rd",
        "outputId": "3d0de945-d935-45b1-8b24-764ae54efff6",
        "colab": {
          "base_uri": "https://localhost:8080/",
          "height": 34
        }
      },
      "execution_count": null,
      "outputs": [
        {
          "output_type": "display_data",
          "data": {
            "text/html": [
              "<style>\n",
              ".list-inline {list-style: none; margin:0; padding: 0}\n",
              ".list-inline>li {display: inline-block}\n",
              ".list-inline>li:not(:last-child)::after {content: \"\\00b7\"; padding: 0 .5ex}\n",
              "</style>\n",
              "<ol class=list-inline><li>0.5</li><li>768</li><li>2.08333333333333</li></ol>\n"
            ],
            "text/markdown": "1. 0.5\n2. 768\n3. 2.08333333333333\n\n\n",
            "text/latex": "\\begin{enumerate*}\n\\item 0.5\n\\item 768\n\\item 2.08333333333333\n\\end{enumerate*}\n",
            "text/plain": [
              "[1]   0.500000 768.000000   2.083333"
            ]
          },
          "metadata": {}
        }
      ]
    },
    {
      "cell_type": "markdown",
      "source": [
        "## 3. Vector Indexes (3 pts)"
      ],
      "metadata": {
        "id": "F6Rx0GIGrpOB"
      }
    },
    {
      "cell_type": "markdown",
      "source": [
        "In the cell below, create a vector that starts with the integer 4, that increments by counts of 3 all the way to 28.\n",
        "\n",
        "Assign the vector to a variable name."
      ],
      "metadata": {
        "id": "IDLyOjOJsFCX"
      }
    },
    {
      "cell_type": "code",
      "source": [
        "i <- seq(from=4, to=28, by=3)\n",
        "i"
      ],
      "metadata": {
        "id": "0D5Ia-BPsoPZ",
        "outputId": "b680bfea-7ca7-47b0-f9db-911db96e5bbc",
        "colab": {
          "base_uri": "https://localhost:8080/",
          "height": 34
        }
      },
      "execution_count": null,
      "outputs": [
        {
          "output_type": "display_data",
          "data": {
            "text/html": [
              "<style>\n",
              ".list-inline {list-style: none; margin:0; padding: 0}\n",
              ".list-inline>li {display: inline-block}\n",
              ".list-inline>li:not(:last-child)::after {content: \"\\00b7\"; padding: 0 .5ex}\n",
              "</style>\n",
              "<ol class=list-inline><li>4</li><li>7</li><li>10</li><li>13</li><li>16</li><li>19</li><li>22</li><li>25</li><li>28</li></ol>\n"
            ],
            "text/markdown": "1. 4\n2. 7\n3. 10\n4. 13\n5. 16\n6. 19\n7. 22\n8. 25\n9. 28\n\n\n",
            "text/latex": "\\begin{enumerate*}\n\\item 4\n\\item 7\n\\item 10\n\\item 13\n\\item 16\n\\item 19\n\\item 22\n\\item 25\n\\item 28\n\\end{enumerate*}\n",
            "text/plain": [
              "[1]  4  7 10 13 16 19 22 25 28"
            ]
          },
          "metadata": {}
        }
      ]
    },
    {
      "cell_type": "markdown",
      "source": [
        "Next, show how to display this vector with the 3 index removed."
      ],
      "metadata": {
        "id": "RxFRiRMvtfXI"
      }
    },
    {
      "cell_type": "code",
      "source": [
        "i[-3]"
      ],
      "metadata": {
        "id": "MBg7V1LztQlv",
        "outputId": "cc0fab27-c920-4305-82b3-51fb9624abdb",
        "colab": {
          "base_uri": "https://localhost:8080/",
          "height": 34
        }
      },
      "execution_count": null,
      "outputs": [
        {
          "output_type": "display_data",
          "data": {
            "text/html": [
              "<style>\n",
              ".list-inline {list-style: none; margin:0; padding: 0}\n",
              ".list-inline>li {display: inline-block}\n",
              ".list-inline>li:not(:last-child)::after {content: \"\\00b7\"; padding: 0 .5ex}\n",
              "</style>\n",
              "<ol class=list-inline><li>4</li><li>7</li><li>13</li><li>16</li><li>19</li><li>22</li><li>25</li><li>28</li></ol>\n"
            ],
            "text/markdown": "1. 4\n2. 7\n3. 13\n4. 16\n5. 19\n6. 22\n7. 25\n8. 28\n\n\n",
            "text/latex": "\\begin{enumerate*}\n\\item 4\n\\item 7\n\\item 13\n\\item 16\n\\item 19\n\\item 22\n\\item 25\n\\item 28\n\\end{enumerate*}\n",
            "text/plain": [
              "[1]  4  7 13 16 19 22 25 28"
            ]
          },
          "metadata": {}
        }
      ]
    },
    {
      "cell_type": "markdown",
      "source": [
        "Finally, show how to delete the 4th, 5th, and 7th indexes from the vector and update the vector so they are forever removed from the vector.\n",
        "\n",
        "Hint: there is a fairly simple way to do this in one line, such that you don't have to run a separate command for each removal."
      ],
      "metadata": {
        "id": "Rmci-rVCtq-C"
      }
    },
    {
      "cell_type": "code",
      "source": [
        "i <- i[c(-4,-5,-7)]"
      ],
      "metadata": {
        "id": "y1k0NHNruFX2",
        "colab": {
          "base_uri": "https://localhost:8080/",
          "height": 34
        },
        "outputId": "22c4c3f6-54d8-4f9a-f141-9928bd246fe1"
      },
      "execution_count": null,
      "outputs": [
        {
          "output_type": "display_data",
          "data": {
            "text/html": [
              "<style>\n",
              ".list-inline {list-style: none; margin:0; padding: 0}\n",
              ".list-inline>li {display: inline-block}\n",
              ".list-inline>li:not(:last-child)::after {content: \"\\00b7\"; padding: 0 .5ex}\n",
              "</style>\n",
              "<ol class=list-inline><li>4</li><li>7</li><li>10</li><li>19</li><li>25</li><li>28</li></ol>\n"
            ],
            "text/markdown": "1. 4\n2. 7\n3. 10\n4. 19\n5. 25\n6. 28\n\n\n",
            "text/latex": "\\begin{enumerate*}\n\\item 4\n\\item 7\n\\item 10\n\\item 19\n\\item 25\n\\item 28\n\\end{enumerate*}\n",
            "text/plain": [
              "[1]  4  7 10 19 25 28"
            ]
          },
          "metadata": {}
        }
      ]
    },
    {
      "cell_type": "code",
      "source": [
        "i"
      ],
      "metadata": {
        "colab": {
          "base_uri": "https://localhost:8080/",
          "height": 34
        },
        "id": "ZlbkJDFNIHR9",
        "outputId": "701a6601-e128-42aa-c38b-db4a8ece1b2e"
      },
      "execution_count": null,
      "outputs": [
        {
          "output_type": "display_data",
          "data": {
            "text/html": [
              "<style>\n",
              ".list-inline {list-style: none; margin:0; padding: 0}\n",
              ".list-inline>li {display: inline-block}\n",
              ".list-inline>li:not(:last-child)::after {content: \"\\00b7\"; padding: 0 .5ex}\n",
              "</style>\n",
              "<ol class=list-inline><li>4</li><li>7</li><li>10</li><li>19</li><li>25</li><li>28</li></ol>\n"
            ],
            "text/markdown": "1. 4\n2. 7\n3. 10\n4. 19\n5. 25\n6. 28\n\n\n",
            "text/latex": "\\begin{enumerate*}\n\\item 4\n\\item 7\n\\item 10\n\\item 19\n\\item 25\n\\item 28\n\\end{enumerate*}\n",
            "text/plain": [
              "[1]  4  7 10 19 25 28"
            ]
          },
          "metadata": {}
        }
      ]
    },
    {
      "cell_type": "markdown",
      "source": [
        "## 4. Create a Data Frame (3 pts)\n",
        "\n",
        "In the cell below create a data frame with 10 observations (rows) and 5 variables (columns) each. This data frame will describe some of your favorite musical performers. You can use real or fictitious data to populate your data frame.\n",
        "\n",
        "Variables:\n",
        "  - `artist` - Artist or band name\n",
        "  - `category` - Rock, Pop, Country, Hip-hop, Jazz, Classical, Soul, Other. (Try to distribute your selections here)\n",
        "  - `size` - (number of members, 1-?)\n",
        "  - `start` - Debut year of artist.\n",
        "  - `grammy` - Grammmy winner? `TRUE` | `FALSE`\n",
        "\n",
        "First create vectors for each variable populated with your own performer data. Then create a data frame from these vectors (be sure to assign column names too) and assign it to a named variable such as `df`."
      ],
      "metadata": {
        "id": "-2ZaFcCCv3o8"
      }
    },
    {
      "cell_type": "code",
      "source": [
        "#making the data frame\n",
        "artist <- c('Taylor Swift','Arctic Monkeys','Eminem','Steve Lacy','Mazzy Star','Nirvana','Dolly Parton','Marvin Gaye','Alicia Keys','Michael Jackson')\n",
        "category <- c('pop','indie','hip-hop','indie','indie','rock','country','soul','soul','pop')\n",
        "size <- c(1,4,1,1,7,4,1,1,1,1)\n",
        "start <- c(2005,2005,2000,2021,1990,1990,1959,1961,2001,1972)\n",
        "grammy <- c(TRUE,FALSE,TRUE,FALSE,FALSE,TRUE,TRUE,TRUE,TRUE,TRUE)\n",
        "music <- data.frame(Artist = artist, Category = category, Size = size, Start = start, Grammy = grammy)\n",
        "music"
      ],
      "metadata": {
        "id": "V4nBsdVsyauQ",
        "outputId": "f1bf3bf3-5224-4494-9338-da1f928c6062",
        "colab": {
          "base_uri": "https://localhost:8080/",
          "height": 411
        }
      },
      "execution_count": null,
      "outputs": [
        {
          "output_type": "display_data",
          "data": {
            "text/html": [
              "<table class=\"dataframe\">\n",
              "<caption>A data.frame: 10 × 5</caption>\n",
              "<thead>\n",
              "\t<tr><th scope=col>Artist</th><th scope=col>Category</th><th scope=col>Size</th><th scope=col>Start</th><th scope=col>Grammy</th></tr>\n",
              "\t<tr><th scope=col>&lt;chr&gt;</th><th scope=col>&lt;chr&gt;</th><th scope=col>&lt;dbl&gt;</th><th scope=col>&lt;dbl&gt;</th><th scope=col>&lt;lgl&gt;</th></tr>\n",
              "</thead>\n",
              "<tbody>\n",
              "\t<tr><td>Taylor Swift   </td><td>pop    </td><td>1</td><td>2005</td><td> TRUE</td></tr>\n",
              "\t<tr><td>Arctic Monkeys </td><td>indie  </td><td>4</td><td>2005</td><td>FALSE</td></tr>\n",
              "\t<tr><td>Eminem         </td><td>hip-hop</td><td>1</td><td>2000</td><td> TRUE</td></tr>\n",
              "\t<tr><td>Steve Lacy     </td><td>indie  </td><td>1</td><td>2021</td><td>FALSE</td></tr>\n",
              "\t<tr><td>Mazzy Star     </td><td>indie  </td><td>7</td><td>1990</td><td>FALSE</td></tr>\n",
              "\t<tr><td>Nirvana        </td><td>rock   </td><td>4</td><td>1990</td><td> TRUE</td></tr>\n",
              "\t<tr><td>Dolly Parton   </td><td>country</td><td>1</td><td>1959</td><td> TRUE</td></tr>\n",
              "\t<tr><td>Marvin Gaye    </td><td>soul   </td><td>1</td><td>1961</td><td> TRUE</td></tr>\n",
              "\t<tr><td>Alicia Keys    </td><td>soul   </td><td>1</td><td>2001</td><td> TRUE</td></tr>\n",
              "\t<tr><td>Michael Jackson</td><td>pop    </td><td>1</td><td>1972</td><td> TRUE</td></tr>\n",
              "</tbody>\n",
              "</table>\n"
            ],
            "text/markdown": "\nA data.frame: 10 × 5\n\n| Artist &lt;chr&gt; | Category &lt;chr&gt; | Size &lt;dbl&gt; | Start &lt;dbl&gt; | Grammy &lt;lgl&gt; |\n|---|---|---|---|---|\n| Taylor Swift    | pop     | 1 | 2005 |  TRUE |\n| Arctic Monkeys  | indie   | 4 | 2005 | FALSE |\n| Eminem          | hip-hop | 1 | 2000 |  TRUE |\n| Steve Lacy      | indie   | 1 | 2021 | FALSE |\n| Mazzy Star      | indie   | 7 | 1990 | FALSE |\n| Nirvana         | rock    | 4 | 1990 |  TRUE |\n| Dolly Parton    | country | 1 | 1959 |  TRUE |\n| Marvin Gaye     | soul    | 1 | 1961 |  TRUE |\n| Alicia Keys     | soul    | 1 | 2001 |  TRUE |\n| Michael Jackson | pop     | 1 | 1972 |  TRUE |\n\n",
            "text/latex": "A data.frame: 10 × 5\n\\begin{tabular}{lllll}\n Artist & Category & Size & Start & Grammy\\\\\n <chr> & <chr> & <dbl> & <dbl> & <lgl>\\\\\n\\hline\n\t Taylor Swift    & pop     & 1 & 2005 &  TRUE\\\\\n\t Arctic Monkeys  & indie   & 4 & 2005 & FALSE\\\\\n\t Eminem          & hip-hop & 1 & 2000 &  TRUE\\\\\n\t Steve Lacy      & indie   & 1 & 2021 & FALSE\\\\\n\t Mazzy Star      & indie   & 7 & 1990 & FALSE\\\\\n\t Nirvana         & rock    & 4 & 1990 &  TRUE\\\\\n\t Dolly Parton    & country & 1 & 1959 &  TRUE\\\\\n\t Marvin Gaye     & soul    & 1 & 1961 &  TRUE\\\\\n\t Alicia Keys     & soul    & 1 & 2001 &  TRUE\\\\\n\t Michael Jackson & pop     & 1 & 1972 &  TRUE\\\\\n\\end{tabular}\n",
            "text/plain": [
              "   Artist          Category Size Start Grammy\n",
              "1  Taylor Swift    pop      1    2005   TRUE \n",
              "2  Arctic Monkeys  indie    4    2005  FALSE \n",
              "3  Eminem          hip-hop  1    2000   TRUE \n",
              "4  Steve Lacy      indie    1    2021  FALSE \n",
              "5  Mazzy Star      indie    7    1990  FALSE \n",
              "6  Nirvana         rock     4    1990   TRUE \n",
              "7  Dolly Parton    country  1    1959   TRUE \n",
              "8  Marvin Gaye     soul     1    1961   TRUE \n",
              "9  Alicia Keys     soul     1    2001   TRUE \n",
              "10 Michael Jackson pop      1    1972   TRUE "
            ]
          },
          "metadata": {}
        }
      ]
    },
    {
      "cell_type": "markdown",
      "source": [
        "## 5. Filter/Query a Data Frame (2 pts)\n",
        "\n",
        "Use the data frame you created above and show how to perform the following queries."
      ],
      "metadata": {
        "id": "nG5m-FIRydNU"
      }
    },
    {
      "cell_type": "code",
      "source": [
        "# Display the first 3 records and only the `artist`, `category` and `grammy` columns for each.\n",
        "music[1:3,c(1,2,5)]"
      ],
      "metadata": {
        "id": "OlmbfFi6zSgR",
        "outputId": "fb0792fc-07ff-4de7-db8d-0ab2e90046b1",
        "colab": {
          "base_uri": "https://localhost:8080/",
          "height": 192
        }
      },
      "execution_count": null,
      "outputs": [
        {
          "output_type": "display_data",
          "data": {
            "text/html": [
              "<table class=\"dataframe\">\n",
              "<caption>A data.frame: 3 × 3</caption>\n",
              "<thead>\n",
              "\t<tr><th></th><th scope=col>Artist</th><th scope=col>Category</th><th scope=col>Grammy</th></tr>\n",
              "\t<tr><th></th><th scope=col>&lt;chr&gt;</th><th scope=col>&lt;chr&gt;</th><th scope=col>&lt;lgl&gt;</th></tr>\n",
              "</thead>\n",
              "<tbody>\n",
              "\t<tr><th scope=row>1</th><td>Taylor Swift  </td><td>pop    </td><td> TRUE</td></tr>\n",
              "\t<tr><th scope=row>2</th><td>Arctic Monkeys</td><td>indie  </td><td>FALSE</td></tr>\n",
              "\t<tr><th scope=row>3</th><td>Eminem        </td><td>hip-hop</td><td> TRUE</td></tr>\n",
              "</tbody>\n",
              "</table>\n"
            ],
            "text/markdown": "\nA data.frame: 3 × 3\n\n| <!--/--> | Artist &lt;chr&gt; | Category &lt;chr&gt; | Grammy &lt;lgl&gt; |\n|---|---|---|---|\n| 1 | Taylor Swift   | pop     |  TRUE |\n| 2 | Arctic Monkeys | indie   | FALSE |\n| 3 | Eminem         | hip-hop |  TRUE |\n\n",
            "text/latex": "A data.frame: 3 × 3\n\\begin{tabular}{r|lll}\n  & Artist & Category & Grammy\\\\\n  & <chr> & <chr> & <lgl>\\\\\n\\hline\n\t1 & Taylor Swift   & pop     &  TRUE\\\\\n\t2 & Arctic Monkeys & indie   & FALSE\\\\\n\t3 & Eminem         & hip-hop &  TRUE\\\\\n\\end{tabular}\n",
            "text/plain": [
              "  Artist         Category Grammy\n",
              "1 Taylor Swift   pop       TRUE \n",
              "2 Arctic Monkeys indie    FALSE \n",
              "3 Eminem         hip-hop   TRUE "
            ]
          },
          "metadata": {}
        }
      ]
    },
    {
      "cell_type": "code",
      "source": [
        "# Display the records for just one musical category, such as only Rock bands or only Hip-hop bands.\n",
        "music[music$Category == \"indie\",]"
      ],
      "metadata": {
        "id": "-l_kpWSzzlhG",
        "outputId": "888f8e59-0d1b-4c5a-891b-3674d4ff3b5e",
        "colab": {
          "base_uri": "https://localhost:8080/",
          "height": 192
        }
      },
      "execution_count": null,
      "outputs": [
        {
          "output_type": "display_data",
          "data": {
            "text/html": [
              "<table class=\"dataframe\">\n",
              "<caption>A data.frame: 3 × 5</caption>\n",
              "<thead>\n",
              "\t<tr><th></th><th scope=col>Artist</th><th scope=col>Category</th><th scope=col>Size</th><th scope=col>Start</th><th scope=col>Grammy</th></tr>\n",
              "\t<tr><th></th><th scope=col>&lt;chr&gt;</th><th scope=col>&lt;chr&gt;</th><th scope=col>&lt;dbl&gt;</th><th scope=col>&lt;dbl&gt;</th><th scope=col>&lt;lgl&gt;</th></tr>\n",
              "</thead>\n",
              "<tbody>\n",
              "\t<tr><th scope=row>2</th><td>Arctic Monkeys</td><td>indie</td><td>4</td><td>2005</td><td>FALSE</td></tr>\n",
              "\t<tr><th scope=row>4</th><td>Steve Lacy    </td><td>indie</td><td>1</td><td>2021</td><td>FALSE</td></tr>\n",
              "\t<tr><th scope=row>5</th><td>Mazzy Star    </td><td>indie</td><td>1</td><td>1990</td><td>FALSE</td></tr>\n",
              "</tbody>\n",
              "</table>\n"
            ],
            "text/markdown": "\nA data.frame: 3 × 5\n\n| <!--/--> | Artist &lt;chr&gt; | Category &lt;chr&gt; | Size &lt;dbl&gt; | Start &lt;dbl&gt; | Grammy &lt;lgl&gt; |\n|---|---|---|---|---|---|\n| 2 | Arctic Monkeys | indie | 4 | 2005 | FALSE |\n| 4 | Steve Lacy     | indie | 1 | 2021 | FALSE |\n| 5 | Mazzy Star     | indie | 1 | 1990 | FALSE |\n\n",
            "text/latex": "A data.frame: 3 × 5\n\\begin{tabular}{r|lllll}\n  & Artist & Category & Size & Start & Grammy\\\\\n  & <chr> & <chr> & <dbl> & <dbl> & <lgl>\\\\\n\\hline\n\t2 & Arctic Monkeys & indie & 4 & 2005 & FALSE\\\\\n\t4 & Steve Lacy     & indie & 1 & 2021 & FALSE\\\\\n\t5 & Mazzy Star     & indie & 1 & 1990 & FALSE\\\\\n\\end{tabular}\n",
            "text/plain": [
              "  Artist         Category Size Start Grammy\n",
              "2 Arctic Monkeys indie    4    2005  FALSE \n",
              "4 Steve Lacy     indie    1    2021  FALSE \n",
              "5 Mazzy Star     indie    1    1990  FALSE "
            ]
          },
          "metadata": {}
        }
      ]
    },
    {
      "cell_type": "markdown",
      "source": [
        "## Query a Data Frame using `tidyverse` (4 pts)\n",
        "\n",
        "1. Show how to load the library.\n",
        "2. Show how to glimpse basic features of the `starwars` data table.\n",
        "3. Create a query using tidyverse that retrieves the following data:\n",
        "    - Selects only these columns: `name`, `height`, `sex`, `species`.\n",
        "    - Filters for all species that are NOT Human.\n",
        "    - Arranges the resulting data in order by name.\n",
        "\n",
        "Show your output in a data frame."
      ],
      "metadata": {
        "id": "L-xnszjS0Byy"
      }
    },
    {
      "cell_type": "code",
      "source": [
        "#loading the library\n",
        "install.packages(\"tidyverse\")\n",
        "library(tidyverse)"
      ],
      "metadata": {
        "id": "yTMLzrxS0F4u",
        "outputId": "5054448e-9549-4fdd-b41e-316dd273cf9d",
        "colab": {
          "base_uri": "https://localhost:8080/"
        }
      },
      "execution_count": null,
      "outputs": [
        {
          "output_type": "stream",
          "name": "stderr",
          "text": [
            "Installing package into ‘/usr/local/lib/R/site-library’\n",
            "(as ‘lib’ is unspecified)\n",
            "\n",
            "── \u001b[1mAttaching core tidyverse packages\u001b[22m ──────────────────────── tidyverse 2.0.0 ──\n",
            "\u001b[32m✔\u001b[39m \u001b[34mdplyr    \u001b[39m 1.1.3     \u001b[32m✔\u001b[39m \u001b[34mreadr    \u001b[39m 2.1.4\n",
            "\u001b[32m✔\u001b[39m \u001b[34mforcats  \u001b[39m 1.0.0     \u001b[32m✔\u001b[39m \u001b[34mstringr  \u001b[39m 1.5.0\n",
            "\u001b[32m✔\u001b[39m \u001b[34mggplot2  \u001b[39m 3.4.4     \u001b[32m✔\u001b[39m \u001b[34mtibble   \u001b[39m 3.2.1\n",
            "\u001b[32m✔\u001b[39m \u001b[34mlubridate\u001b[39m 1.9.3     \u001b[32m✔\u001b[39m \u001b[34mtidyr    \u001b[39m 1.3.0\n",
            "\u001b[32m✔\u001b[39m \u001b[34mpurrr    \u001b[39m 1.0.2     \n",
            "── \u001b[1mConflicts\u001b[22m ────────────────────────────────────────── tidyverse_conflicts() ──\n",
            "\u001b[31m✖\u001b[39m \u001b[34mdplyr\u001b[39m::\u001b[32mfilter()\u001b[39m masks \u001b[34mstats\u001b[39m::filter()\n",
            "\u001b[31m✖\u001b[39m \u001b[34mdplyr\u001b[39m::\u001b[32mlag()\u001b[39m    masks \u001b[34mstats\u001b[39m::lag()\n",
            "\u001b[36mℹ\u001b[39m Use the conflicted package (\u001b[3m\u001b[34m<http://conflicted.r-lib.org/>\u001b[39m\u001b[23m) to force all conflicts to become errors\n"
          ]
        }
      ]
    },
    {
      "cell_type": "code",
      "source": [
        "#retrieving data\n",
        "starwars\n",
        "#getting structure of data\n",
        "str(starwars)"
      ],
      "metadata": {
        "id": "2puwt9kiuD4M",
        "outputId": "3a5c9344-31aa-48fa-ed4c-6407a3321db6",
        "colab": {
          "base_uri": "https://localhost:8080/",
          "height": 1000
        }
      },
      "execution_count": null,
      "outputs": [
        {
          "output_type": "display_data",
          "data": {
            "text/html": [
              "<table class=\"dataframe\">\n",
              "<caption>A tibble: 87 × 14</caption>\n",
              "<thead>\n",
              "\t<tr><th scope=col>name</th><th scope=col>height</th><th scope=col>mass</th><th scope=col>hair_color</th><th scope=col>skin_color</th><th scope=col>eye_color</th><th scope=col>birth_year</th><th scope=col>sex</th><th scope=col>gender</th><th scope=col>homeworld</th><th scope=col>species</th><th scope=col>films</th><th scope=col>vehicles</th><th scope=col>starships</th></tr>\n",
              "\t<tr><th scope=col>&lt;chr&gt;</th><th scope=col>&lt;int&gt;</th><th scope=col>&lt;dbl&gt;</th><th scope=col>&lt;chr&gt;</th><th scope=col>&lt;chr&gt;</th><th scope=col>&lt;chr&gt;</th><th scope=col>&lt;dbl&gt;</th><th scope=col>&lt;chr&gt;</th><th scope=col>&lt;chr&gt;</th><th scope=col>&lt;chr&gt;</th><th scope=col>&lt;chr&gt;</th><th scope=col>&lt;list&gt;</th><th scope=col>&lt;list&gt;</th><th scope=col>&lt;list&gt;</th></tr>\n",
              "</thead>\n",
              "<tbody>\n",
              "\t<tr><td>Luke Skywalker       </td><td>172</td><td>  77.0</td><td>blond        </td><td>fair            </td><td>blue     </td><td> 19.0</td><td>male          </td><td>masculine</td><td>Tatooine  </td><td>Human         </td><td>The Empire Strikes Back, Revenge of the Sith    , Return of the Jedi     , A New Hope             , The Force Awakens      </td><td>Snowspeeder          , Imperial Speeder Bike</td><td>X-wing          , Imperial shuttle</td></tr>\n",
              "\t<tr><td>C-3PO                </td><td>167</td><td>  75.0</td><td>NA           </td><td>gold            </td><td>yellow   </td><td>112.0</td><td>none          </td><td>masculine</td><td>Tatooine  </td><td>Droid         </td><td>The Empire Strikes Back, Attack of the Clones   , The Phantom Menace     , Revenge of the Sith    , Return of the Jedi     , A New Hope             </td><td></td><td></td></tr>\n",
              "\t<tr><td>R2-D2                </td><td> 96</td><td>  32.0</td><td>NA           </td><td>white, blue     </td><td>red      </td><td> 33.0</td><td>none          </td><td>masculine</td><td>Naboo     </td><td>Droid         </td><td>The Empire Strikes Back, Attack of the Clones   , The Phantom Menace     , Revenge of the Sith    , Return of the Jedi     , A New Hope             , The Force Awakens      </td><td></td><td></td></tr>\n",
              "\t<tr><td>Darth Vader          </td><td>202</td><td> 136.0</td><td>none         </td><td>white           </td><td>yellow   </td><td> 41.9</td><td>male          </td><td>masculine</td><td>Tatooine  </td><td>Human         </td><td>The Empire Strikes Back, Revenge of the Sith    , Return of the Jedi     , A New Hope             </td><td></td><td>TIE Advanced x1</td></tr>\n",
              "\t<tr><td>Leia Organa          </td><td>150</td><td>  49.0</td><td>brown        </td><td>light           </td><td>brown    </td><td> 19.0</td><td>female        </td><td>feminine </td><td>Alderaan  </td><td>Human         </td><td>The Empire Strikes Back, Revenge of the Sith    , Return of the Jedi     , A New Hope             , The Force Awakens      </td><td>Imperial Speeder Bike</td><td></td></tr>\n",
              "\t<tr><td>Owen Lars            </td><td>178</td><td> 120.0</td><td>brown, grey  </td><td>light           </td><td>blue     </td><td> 52.0</td><td>male          </td><td>masculine</td><td>Tatooine  </td><td>Human         </td><td>Attack of the Clones, Revenge of the Sith , A New Hope          </td><td></td><td></td></tr>\n",
              "\t<tr><td>Beru Whitesun lars   </td><td>165</td><td>  75.0</td><td>brown        </td><td>light           </td><td>blue     </td><td> 47.0</td><td>female        </td><td>feminine </td><td>Tatooine  </td><td>Human         </td><td>Attack of the Clones, Revenge of the Sith , A New Hope          </td><td></td><td></td></tr>\n",
              "\t<tr><td>R5-D4                </td><td> 97</td><td>  32.0</td><td>NA           </td><td>white, red      </td><td>red      </td><td>   NA</td><td>none          </td><td>masculine</td><td>Tatooine  </td><td>Droid         </td><td>A New Hope</td><td></td><td></td></tr>\n",
              "\t<tr><td>Biggs Darklighter    </td><td>183</td><td>  84.0</td><td>black        </td><td>light           </td><td>brown    </td><td> 24.0</td><td>male          </td><td>masculine</td><td>Tatooine  </td><td>Human         </td><td>A New Hope</td><td></td><td>X-wing</td></tr>\n",
              "\t<tr><td>Obi-Wan Kenobi       </td><td>182</td><td>  77.0</td><td>auburn, white</td><td>fair            </td><td>blue-gray</td><td> 57.0</td><td>male          </td><td>masculine</td><td>Stewjon   </td><td>Human         </td><td>The Empire Strikes Back, Attack of the Clones   , The Phantom Menace     , Revenge of the Sith    , Return of the Jedi     , A New Hope             </td><td>Tribubble bongo</td><td>Jedi starfighter        , Trade Federation cruiser, Naboo star skiff        , Jedi Interceptor        , Belbullab-22 starfighter</td></tr>\n",
              "\t<tr><td>Anakin Skywalker     </td><td>188</td><td>  84.0</td><td>blond        </td><td>fair            </td><td>blue     </td><td> 41.9</td><td>male          </td><td>masculine</td><td>Tatooine  </td><td>Human         </td><td>Attack of the Clones, The Phantom Menace  , Revenge of the Sith </td><td>Zephyr-G swoop bike, XJ-6 airspeeder    </td><td>Trade Federation cruiser, Jedi Interceptor        , Naboo fighter           </td></tr>\n",
              "\t<tr><td>Wilhuff Tarkin       </td><td>180</td><td>    NA</td><td>auburn, grey </td><td>fair            </td><td>blue     </td><td> 64.0</td><td>male          </td><td>masculine</td><td>Eriadu    </td><td>Human         </td><td>Revenge of the Sith, A New Hope         </td><td></td><td></td></tr>\n",
              "\t<tr><td>Chewbacca            </td><td>228</td><td> 112.0</td><td>brown        </td><td>unknown         </td><td>blue     </td><td>200.0</td><td>male          </td><td>masculine</td><td>Kashyyyk  </td><td>Wookiee       </td><td>The Empire Strikes Back, Revenge of the Sith    , Return of the Jedi     , A New Hope             , The Force Awakens      </td><td>AT-ST</td><td>Millennium Falcon, Imperial shuttle </td></tr>\n",
              "\t<tr><td>Han Solo             </td><td>180</td><td>  80.0</td><td>brown        </td><td>fair            </td><td>brown    </td><td> 29.0</td><td>male          </td><td>masculine</td><td>Corellia  </td><td>Human         </td><td>The Empire Strikes Back, Return of the Jedi     , A New Hope             , The Force Awakens      </td><td></td><td>Millennium Falcon, Imperial shuttle </td></tr>\n",
              "\t<tr><td>Greedo               </td><td>173</td><td>  74.0</td><td>NA           </td><td>green           </td><td>black    </td><td> 44.0</td><td>male          </td><td>masculine</td><td>Rodia     </td><td>Rodian        </td><td>A New Hope</td><td></td><td></td></tr>\n",
              "\t<tr><td>Jabba Desilijic Tiure</td><td>175</td><td>1358.0</td><td>NA           </td><td>green-tan, brown</td><td>orange   </td><td>600.0</td><td>hermaphroditic</td><td>masculine</td><td>Nal Hutta </td><td>Hutt          </td><td>The Phantom Menace, Return of the Jedi, A New Hope        </td><td></td><td></td></tr>\n",
              "\t<tr><td>Wedge Antilles       </td><td>170</td><td>  77.0</td><td>brown        </td><td>fair            </td><td>hazel    </td><td> 21.0</td><td>male          </td><td>masculine</td><td>Corellia  </td><td>Human         </td><td>The Empire Strikes Back, Return of the Jedi     , A New Hope             </td><td>Snowspeeder</td><td>X-wing</td></tr>\n",
              "\t<tr><td>Jek Tono Porkins     </td><td>180</td><td> 110.0</td><td>brown        </td><td>fair            </td><td>blue     </td><td>   NA</td><td>male          </td><td>masculine</td><td>Bestine IV</td><td>Human         </td><td>A New Hope</td><td></td><td>X-wing</td></tr>\n",
              "\t<tr><td>Yoda                 </td><td> 66</td><td>  17.0</td><td>white        </td><td>green           </td><td>brown    </td><td>896.0</td><td>male          </td><td>masculine</td><td>NA        </td><td>Yoda's species</td><td>The Empire Strikes Back, Attack of the Clones   , The Phantom Menace     , Revenge of the Sith    , Return of the Jedi     </td><td></td><td></td></tr>\n",
              "\t<tr><td>Palpatine            </td><td>170</td><td>  75.0</td><td>grey         </td><td>pale            </td><td>yellow   </td><td> 82.0</td><td>male          </td><td>masculine</td><td>Naboo     </td><td>Human         </td><td>The Empire Strikes Back, Attack of the Clones   , The Phantom Menace     , Revenge of the Sith    , Return of the Jedi     </td><td></td><td></td></tr>\n",
              "\t<tr><td>Boba Fett            </td><td>183</td><td>  78.2</td><td>black        </td><td>fair            </td><td>brown    </td><td> 31.5</td><td>male          </td><td>masculine</td><td>Kamino    </td><td>Human         </td><td>The Empire Strikes Back, Attack of the Clones   , Return of the Jedi     </td><td></td><td>Slave 1</td></tr>\n",
              "\t<tr><td>IG-88                </td><td>200</td><td> 140.0</td><td>none         </td><td>metal           </td><td>red      </td><td> 15.0</td><td>none          </td><td>masculine</td><td>NA        </td><td>Droid         </td><td>The Empire Strikes Back</td><td></td><td></td></tr>\n",
              "\t<tr><td>Bossk                </td><td>190</td><td> 113.0</td><td>none         </td><td>green           </td><td>red      </td><td> 53.0</td><td>male          </td><td>masculine</td><td>Trandosha </td><td>Trandoshan    </td><td>The Empire Strikes Back</td><td></td><td></td></tr>\n",
              "\t<tr><td>Lando Calrissian     </td><td>177</td><td>  79.0</td><td>black        </td><td>dark            </td><td>brown    </td><td> 31.0</td><td>male          </td><td>masculine</td><td>Socorro   </td><td>Human         </td><td>The Empire Strikes Back, Return of the Jedi     </td><td></td><td>Millennium Falcon</td></tr>\n",
              "\t<tr><td>Lobot                </td><td>175</td><td>  79.0</td><td>none         </td><td>light           </td><td>blue     </td><td> 37.0</td><td>male          </td><td>masculine</td><td>Bespin    </td><td>Human         </td><td>The Empire Strikes Back</td><td></td><td></td></tr>\n",
              "\t<tr><td>Ackbar               </td><td>180</td><td>  83.0</td><td>none         </td><td>brown mottle    </td><td>orange   </td><td> 41.0</td><td>male          </td><td>masculine</td><td>Mon Cala  </td><td>Mon Calamari  </td><td>Return of the Jedi, The Force Awakens </td><td></td><td></td></tr>\n",
              "\t<tr><td>Mon Mothma           </td><td>150</td><td>    NA</td><td>auburn       </td><td>fair            </td><td>blue     </td><td> 48.0</td><td>female        </td><td>feminine </td><td>Chandrila </td><td>Human         </td><td>Return of the Jedi</td><td></td><td></td></tr>\n",
              "\t<tr><td>Arvel Crynyd         </td><td> NA</td><td>    NA</td><td>brown        </td><td>fair            </td><td>brown    </td><td>   NA</td><td>male          </td><td>masculine</td><td>NA        </td><td>Human         </td><td>Return of the Jedi</td><td></td><td>A-wing</td></tr>\n",
              "\t<tr><td>Wicket Systri Warrick</td><td> 88</td><td>  20.0</td><td>brown        </td><td>brown           </td><td>brown    </td><td>  8.0</td><td>male          </td><td>masculine</td><td>Endor     </td><td>Ewok          </td><td>Return of the Jedi</td><td></td><td></td></tr>\n",
              "\t<tr><td>Nien Nunb            </td><td>160</td><td>  68.0</td><td>none         </td><td>grey            </td><td>black    </td><td>   NA</td><td>male          </td><td>masculine</td><td>Sullust   </td><td>Sullustan     </td><td>Return of the Jedi</td><td></td><td>Millennium Falcon</td></tr>\n",
              "\t<tr><td>⋮</td><td>⋮</td><td>⋮</td><td>⋮</td><td>⋮</td><td>⋮</td><td>⋮</td><td>⋮</td><td>⋮</td><td>⋮</td><td>⋮</td><td>⋮</td><td>⋮</td><td>⋮</td></tr>\n",
              "\t<tr><td>Cordé              </td><td>157</td><td>   NA</td><td>brown  </td><td>light              </td><td>brown        </td><td> NA</td><td>female</td><td>feminine </td><td>Naboo       </td><td>Human    </td><td>Attack of the Clones</td><td></td><td></td></tr>\n",
              "\t<tr><td>Cliegg Lars        </td><td>183</td><td>   NA</td><td>brown  </td><td>fair               </td><td>blue         </td><td> 82</td><td>male  </td><td>masculine</td><td>Tatooine    </td><td>Human    </td><td>Attack of the Clones</td><td></td><td></td></tr>\n",
              "\t<tr><td>Poggle the Lesser  </td><td>183</td><td> 80.0</td><td>none   </td><td>green              </td><td>yellow       </td><td> NA</td><td>male  </td><td>masculine</td><td>Geonosis    </td><td>Geonosian</td><td>Attack of the Clones, Revenge of the Sith </td><td></td><td></td></tr>\n",
              "\t<tr><td>Luminara Unduli    </td><td>170</td><td> 56.2</td><td>black  </td><td>yellow             </td><td>blue         </td><td> 58</td><td>female</td><td>feminine </td><td>Mirial      </td><td>Mirialan </td><td>Attack of the Clones, Revenge of the Sith </td><td></td><td></td></tr>\n",
              "\t<tr><td>Barriss Offee      </td><td>166</td><td> 50.0</td><td>black  </td><td>yellow             </td><td>blue         </td><td> 40</td><td>female</td><td>feminine </td><td>Mirial      </td><td>Mirialan </td><td>Attack of the Clones</td><td></td><td></td></tr>\n",
              "\t<tr><td>Dormé              </td><td>165</td><td>   NA</td><td>brown  </td><td>light              </td><td>brown        </td><td> NA</td><td>female</td><td>feminine </td><td>Naboo       </td><td>Human    </td><td>Attack of the Clones</td><td></td><td></td></tr>\n",
              "\t<tr><td>Dooku              </td><td>193</td><td> 80.0</td><td>white  </td><td>fair               </td><td>brown        </td><td>102</td><td>male  </td><td>masculine</td><td>Serenno     </td><td>Human    </td><td>Attack of the Clones, Revenge of the Sith </td><td>Flitknot speeder</td><td></td></tr>\n",
              "\t<tr><td>Bail Prestor Organa</td><td>191</td><td>   NA</td><td>black  </td><td>tan                </td><td>brown        </td><td> 67</td><td>male  </td><td>masculine</td><td>Alderaan    </td><td>Human    </td><td>Attack of the Clones, Revenge of the Sith </td><td></td><td></td></tr>\n",
              "\t<tr><td>Jango Fett         </td><td>183</td><td> 79.0</td><td>black  </td><td>tan                </td><td>brown        </td><td> 66</td><td>male  </td><td>masculine</td><td>Concord Dawn</td><td>Human    </td><td>Attack of the Clones</td><td></td><td></td></tr>\n",
              "\t<tr><td>Zam Wesell         </td><td>168</td><td> 55.0</td><td>blonde </td><td>fair, green, yellow</td><td>yellow       </td><td> NA</td><td>female</td><td>feminine </td><td>Zolan       </td><td>Clawdite </td><td>Attack of the Clones</td><td>Koro-2 Exodrive airspeeder</td><td></td></tr>\n",
              "\t<tr><td>Dexter Jettster    </td><td>198</td><td>102.0</td><td>none   </td><td>brown              </td><td>yellow       </td><td> NA</td><td>male  </td><td>masculine</td><td>Ojom        </td><td>Besalisk </td><td>Attack of the Clones</td><td></td><td></td></tr>\n",
              "\t<tr><td>Lama Su            </td><td>229</td><td> 88.0</td><td>none   </td><td>grey               </td><td>black        </td><td> NA</td><td>male  </td><td>masculine</td><td>Kamino      </td><td>Kaminoan </td><td>Attack of the Clones</td><td></td><td></td></tr>\n",
              "\t<tr><td>Taun We            </td><td>213</td><td>   NA</td><td>none   </td><td>grey               </td><td>black        </td><td> NA</td><td>female</td><td>feminine </td><td>Kamino      </td><td>Kaminoan </td><td>Attack of the Clones</td><td></td><td></td></tr>\n",
              "\t<tr><td>Jocasta Nu         </td><td>167</td><td>   NA</td><td>white  </td><td>fair               </td><td>blue         </td><td> NA</td><td>female</td><td>feminine </td><td>Coruscant   </td><td>Human    </td><td>Attack of the Clones</td><td></td><td></td></tr>\n",
              "\t<tr><td>Ratts Tyerell      </td><td> 79</td><td> 15.0</td><td>none   </td><td>grey, blue         </td><td>unknown      </td><td> NA</td><td>male  </td><td>masculine</td><td>Aleen Minor </td><td>Aleena   </td><td>The Phantom Menace</td><td></td><td></td></tr>\n",
              "\t<tr><td>R4-P17             </td><td> 96</td><td>   NA</td><td>none   </td><td>silver, red        </td><td>red, blue    </td><td> NA</td><td>none  </td><td>feminine </td><td>NA          </td><td>Droid    </td><td>Attack of the Clones, Revenge of the Sith </td><td></td><td></td></tr>\n",
              "\t<tr><td>Wat Tambor         </td><td>193</td><td> 48.0</td><td>none   </td><td>green, grey        </td><td>unknown      </td><td> NA</td><td>male  </td><td>masculine</td><td>Skako       </td><td>Skakoan  </td><td>Attack of the Clones</td><td></td><td></td></tr>\n",
              "\t<tr><td>San Hill           </td><td>191</td><td>   NA</td><td>none   </td><td>grey               </td><td>gold         </td><td> NA</td><td>male  </td><td>masculine</td><td>Muunilinst  </td><td>Muun     </td><td>Attack of the Clones</td><td></td><td></td></tr>\n",
              "\t<tr><td>Shaak Ti           </td><td>178</td><td> 57.0</td><td>none   </td><td>red, blue, white   </td><td>black        </td><td> NA</td><td>female</td><td>feminine </td><td>Shili       </td><td>Togruta  </td><td>Attack of the Clones, Revenge of the Sith </td><td></td><td></td></tr>\n",
              "\t<tr><td>Grievous           </td><td>216</td><td>159.0</td><td>none   </td><td>brown, white       </td><td>green, yellow</td><td> NA</td><td>male  </td><td>masculine</td><td>Kalee       </td><td>Kaleesh  </td><td>Revenge of the Sith</td><td>Tsmeu-6 personal wheel bike</td><td>Belbullab-22 starfighter</td></tr>\n",
              "\t<tr><td>Tarfful            </td><td>234</td><td>136.0</td><td>brown  </td><td>brown              </td><td>blue         </td><td> NA</td><td>male  </td><td>masculine</td><td>Kashyyyk    </td><td>Wookiee  </td><td>Revenge of the Sith</td><td></td><td></td></tr>\n",
              "\t<tr><td>Raymus Antilles    </td><td>188</td><td> 79.0</td><td>brown  </td><td>light              </td><td>brown        </td><td> NA</td><td>male  </td><td>masculine</td><td>Alderaan    </td><td>Human    </td><td>Revenge of the Sith, A New Hope         </td><td></td><td></td></tr>\n",
              "\t<tr><td>Sly Moore          </td><td>178</td><td> 48.0</td><td>none   </td><td>pale               </td><td>white        </td><td> NA</td><td>NA    </td><td>NA       </td><td>Umbara      </td><td>NA       </td><td>Attack of the Clones, Revenge of the Sith </td><td></td><td></td></tr>\n",
              "\t<tr><td>Tion Medon         </td><td>206</td><td> 80.0</td><td>none   </td><td>grey               </td><td>black        </td><td> NA</td><td>male  </td><td>masculine</td><td>Utapau      </td><td>Pau'an   </td><td>Revenge of the Sith</td><td></td><td></td></tr>\n",
              "\t<tr><td>Finn               </td><td> NA</td><td>   NA</td><td>black  </td><td>dark               </td><td>dark         </td><td> NA</td><td>male  </td><td>masculine</td><td>NA          </td><td>Human    </td><td>The Force Awakens</td><td></td><td></td></tr>\n",
              "\t<tr><td>Rey                </td><td> NA</td><td>   NA</td><td>brown  </td><td>light              </td><td>hazel        </td><td> NA</td><td>female</td><td>feminine </td><td>NA          </td><td>Human    </td><td>The Force Awakens</td><td></td><td></td></tr>\n",
              "\t<tr><td>Poe Dameron        </td><td> NA</td><td>   NA</td><td>brown  </td><td>light              </td><td>brown        </td><td> NA</td><td>male  </td><td>masculine</td><td>NA          </td><td>Human    </td><td>The Force Awakens</td><td></td><td>T-70 X-wing fighter</td></tr>\n",
              "\t<tr><td>BB8                </td><td> NA</td><td>   NA</td><td>none   </td><td>none               </td><td>black        </td><td> NA</td><td>none  </td><td>masculine</td><td>NA          </td><td>Droid    </td><td>The Force Awakens</td><td></td><td></td></tr>\n",
              "\t<tr><td>Captain Phasma     </td><td> NA</td><td>   NA</td><td>unknown</td><td>unknown            </td><td>unknown      </td><td> NA</td><td>NA    </td><td>NA       </td><td>NA          </td><td>NA       </td><td>The Force Awakens</td><td></td><td></td></tr>\n",
              "\t<tr><td>Padmé Amidala      </td><td>165</td><td> 45.0</td><td>brown  </td><td>light              </td><td>brown        </td><td> 46</td><td>female</td><td>feminine </td><td>Naboo       </td><td>Human    </td><td>Attack of the Clones, The Phantom Menace  , Revenge of the Sith </td><td></td><td>H-type Nubian yacht, Naboo star skiff   , Naboo fighter      </td></tr>\n",
              "</tbody>\n",
              "</table>\n"
            ],
            "text/markdown": "\nA tibble: 87 × 14\n\n| name &lt;chr&gt; | height &lt;int&gt; | mass &lt;dbl&gt; | hair_color &lt;chr&gt; | skin_color &lt;chr&gt; | eye_color &lt;chr&gt; | birth_year &lt;dbl&gt; | sex &lt;chr&gt; | gender &lt;chr&gt; | homeworld &lt;chr&gt; | species &lt;chr&gt; | films &lt;list&gt; | vehicles &lt;list&gt; | starships &lt;list&gt; |\n|---|---|---|---|---|---|---|---|---|---|---|---|---|---|\n| Luke Skywalker        | 172 |   77.0 | blond         | fair             | blue      |  19.0 | male           | masculine | Tatooine   | Human          | The Empire Strikes Back, Revenge of the Sith    , Return of the Jedi     , A New Hope             , The Force Awakens       | Snowspeeder          , Imperial Speeder Bike | X-wing          , Imperial shuttle |\n| C-3PO                 | 167 |   75.0 | NA            | gold             | yellow    | 112.0 | none           | masculine | Tatooine   | Droid          | The Empire Strikes Back, Attack of the Clones   , The Phantom Menace     , Revenge of the Sith    , Return of the Jedi     , A New Hope              | <!----> | <!----> |\n| R2-D2                 |  96 |   32.0 | NA            | white, blue      | red       |  33.0 | none           | masculine | Naboo      | Droid          | The Empire Strikes Back, Attack of the Clones   , The Phantom Menace     , Revenge of the Sith    , Return of the Jedi     , A New Hope             , The Force Awakens       | <!----> | <!----> |\n| Darth Vader           | 202 |  136.0 | none          | white            | yellow    |  41.9 | male           | masculine | Tatooine   | Human          | The Empire Strikes Back, Revenge of the Sith    , Return of the Jedi     , A New Hope              | <!----> | TIE Advanced x1 |\n| Leia Organa           | 150 |   49.0 | brown         | light            | brown     |  19.0 | female         | feminine  | Alderaan   | Human          | The Empire Strikes Back, Revenge of the Sith    , Return of the Jedi     , A New Hope             , The Force Awakens       | Imperial Speeder Bike | <!----> |\n| Owen Lars             | 178 |  120.0 | brown, grey   | light            | blue      |  52.0 | male           | masculine | Tatooine   | Human          | Attack of the Clones, Revenge of the Sith , A New Hope           | <!----> | <!----> |\n| Beru Whitesun lars    | 165 |   75.0 | brown         | light            | blue      |  47.0 | female         | feminine  | Tatooine   | Human          | Attack of the Clones, Revenge of the Sith , A New Hope           | <!----> | <!----> |\n| R5-D4                 |  97 |   32.0 | NA            | white, red       | red       |    NA | none           | masculine | Tatooine   | Droid          | A New Hope | <!----> | <!----> |\n| Biggs Darklighter     | 183 |   84.0 | black         | light            | brown     |  24.0 | male           | masculine | Tatooine   | Human          | A New Hope | <!----> | X-wing |\n| Obi-Wan Kenobi        | 182 |   77.0 | auburn, white | fair             | blue-gray |  57.0 | male           | masculine | Stewjon    | Human          | The Empire Strikes Back, Attack of the Clones   , The Phantom Menace     , Revenge of the Sith    , Return of the Jedi     , A New Hope              | Tribubble bongo | Jedi starfighter        , Trade Federation cruiser, Naboo star skiff        , Jedi Interceptor        , Belbullab-22 starfighter |\n| Anakin Skywalker      | 188 |   84.0 | blond         | fair             | blue      |  41.9 | male           | masculine | Tatooine   | Human          | Attack of the Clones, The Phantom Menace  , Revenge of the Sith  | Zephyr-G swoop bike, XJ-6 airspeeder     | Trade Federation cruiser, Jedi Interceptor        , Naboo fighter            |\n| Wilhuff Tarkin        | 180 |     NA | auburn, grey  | fair             | blue      |  64.0 | male           | masculine | Eriadu     | Human          | Revenge of the Sith, A New Hope          | <!----> | <!----> |\n| Chewbacca             | 228 |  112.0 | brown         | unknown          | blue      | 200.0 | male           | masculine | Kashyyyk   | Wookiee        | The Empire Strikes Back, Revenge of the Sith    , Return of the Jedi     , A New Hope             , The Force Awakens       | AT-ST | Millennium Falcon, Imperial shuttle  |\n| Han Solo              | 180 |   80.0 | brown         | fair             | brown     |  29.0 | male           | masculine | Corellia   | Human          | The Empire Strikes Back, Return of the Jedi     , A New Hope             , The Force Awakens       | <!----> | Millennium Falcon, Imperial shuttle  |\n| Greedo                | 173 |   74.0 | NA            | green            | black     |  44.0 | male           | masculine | Rodia      | Rodian         | A New Hope | <!----> | <!----> |\n| Jabba Desilijic Tiure | 175 | 1358.0 | NA            | green-tan, brown | orange    | 600.0 | hermaphroditic | masculine | Nal Hutta  | Hutt           | The Phantom Menace, Return of the Jedi, A New Hope         | <!----> | <!----> |\n| Wedge Antilles        | 170 |   77.0 | brown         | fair             | hazel     |  21.0 | male           | masculine | Corellia   | Human          | The Empire Strikes Back, Return of the Jedi     , A New Hope              | Snowspeeder | X-wing |\n| Jek Tono Porkins      | 180 |  110.0 | brown         | fair             | blue      |    NA | male           | masculine | Bestine IV | Human          | A New Hope | <!----> | X-wing |\n| Yoda                  |  66 |   17.0 | white         | green            | brown     | 896.0 | male           | masculine | NA         | Yoda's species | The Empire Strikes Back, Attack of the Clones   , The Phantom Menace     , Revenge of the Sith    , Return of the Jedi      | <!----> | <!----> |\n| Palpatine             | 170 |   75.0 | grey          | pale             | yellow    |  82.0 | male           | masculine | Naboo      | Human          | The Empire Strikes Back, Attack of the Clones   , The Phantom Menace     , Revenge of the Sith    , Return of the Jedi      | <!----> | <!----> |\n| Boba Fett             | 183 |   78.2 | black         | fair             | brown     |  31.5 | male           | masculine | Kamino     | Human          | The Empire Strikes Back, Attack of the Clones   , Return of the Jedi      | <!----> | Slave 1 |\n| IG-88                 | 200 |  140.0 | none          | metal            | red       |  15.0 | none           | masculine | NA         | Droid          | The Empire Strikes Back | <!----> | <!----> |\n| Bossk                 | 190 |  113.0 | none          | green            | red       |  53.0 | male           | masculine | Trandosha  | Trandoshan     | The Empire Strikes Back | <!----> | <!----> |\n| Lando Calrissian      | 177 |   79.0 | black         | dark             | brown     |  31.0 | male           | masculine | Socorro    | Human          | The Empire Strikes Back, Return of the Jedi      | <!----> | Millennium Falcon |\n| Lobot                 | 175 |   79.0 | none          | light            | blue      |  37.0 | male           | masculine | Bespin     | Human          | The Empire Strikes Back | <!----> | <!----> |\n| Ackbar                | 180 |   83.0 | none          | brown mottle     | orange    |  41.0 | male           | masculine | Mon Cala   | Mon Calamari   | Return of the Jedi, The Force Awakens  | <!----> | <!----> |\n| Mon Mothma            | 150 |     NA | auburn        | fair             | blue      |  48.0 | female         | feminine  | Chandrila  | Human          | Return of the Jedi | <!----> | <!----> |\n| Arvel Crynyd          |  NA |     NA | brown         | fair             | brown     |    NA | male           | masculine | NA         | Human          | Return of the Jedi | <!----> | A-wing |\n| Wicket Systri Warrick |  88 |   20.0 | brown         | brown            | brown     |   8.0 | male           | masculine | Endor      | Ewok           | Return of the Jedi | <!----> | <!----> |\n| Nien Nunb             | 160 |   68.0 | none          | grey             | black     |    NA | male           | masculine | Sullust    | Sullustan      | Return of the Jedi | <!----> | Millennium Falcon |\n| ⋮ | ⋮ | ⋮ | ⋮ | ⋮ | ⋮ | ⋮ | ⋮ | ⋮ | ⋮ | ⋮ | ⋮ | ⋮ | ⋮ |\n| Cordé               | 157 |    NA | brown   | light               | brown         |  NA | female | feminine  | Naboo        | Human     | Attack of the Clones | <!----> | <!----> |\n| Cliegg Lars         | 183 |    NA | brown   | fair                | blue          |  82 | male   | masculine | Tatooine     | Human     | Attack of the Clones | <!----> | <!----> |\n| Poggle the Lesser   | 183 |  80.0 | none    | green               | yellow        |  NA | male   | masculine | Geonosis     | Geonosian | Attack of the Clones, Revenge of the Sith  | <!----> | <!----> |\n| Luminara Unduli     | 170 |  56.2 | black   | yellow              | blue          |  58 | female | feminine  | Mirial       | Mirialan  | Attack of the Clones, Revenge of the Sith  | <!----> | <!----> |\n| Barriss Offee       | 166 |  50.0 | black   | yellow              | blue          |  40 | female | feminine  | Mirial       | Mirialan  | Attack of the Clones | <!----> | <!----> |\n| Dormé               | 165 |    NA | brown   | light               | brown         |  NA | female | feminine  | Naboo        | Human     | Attack of the Clones | <!----> | <!----> |\n| Dooku               | 193 |  80.0 | white   | fair                | brown         | 102 | male   | masculine | Serenno      | Human     | Attack of the Clones, Revenge of the Sith  | Flitknot speeder | <!----> |\n| Bail Prestor Organa | 191 |    NA | black   | tan                 | brown         |  67 | male   | masculine | Alderaan     | Human     | Attack of the Clones, Revenge of the Sith  | <!----> | <!----> |\n| Jango Fett          | 183 |  79.0 | black   | tan                 | brown         |  66 | male   | masculine | Concord Dawn | Human     | Attack of the Clones | <!----> | <!----> |\n| Zam Wesell          | 168 |  55.0 | blonde  | fair, green, yellow | yellow        |  NA | female | feminine  | Zolan        | Clawdite  | Attack of the Clones | Koro-2 Exodrive airspeeder | <!----> |\n| Dexter Jettster     | 198 | 102.0 | none    | brown               | yellow        |  NA | male   | masculine | Ojom         | Besalisk  | Attack of the Clones | <!----> | <!----> |\n| Lama Su             | 229 |  88.0 | none    | grey                | black         |  NA | male   | masculine | Kamino       | Kaminoan  | Attack of the Clones | <!----> | <!----> |\n| Taun We             | 213 |    NA | none    | grey                | black         |  NA | female | feminine  | Kamino       | Kaminoan  | Attack of the Clones | <!----> | <!----> |\n| Jocasta Nu          | 167 |    NA | white   | fair                | blue          |  NA | female | feminine  | Coruscant    | Human     | Attack of the Clones | <!----> | <!----> |\n| Ratts Tyerell       |  79 |  15.0 | none    | grey, blue          | unknown       |  NA | male   | masculine | Aleen Minor  | Aleena    | The Phantom Menace | <!----> | <!----> |\n| R4-P17              |  96 |    NA | none    | silver, red         | red, blue     |  NA | none   | feminine  | NA           | Droid     | Attack of the Clones, Revenge of the Sith  | <!----> | <!----> |\n| Wat Tambor          | 193 |  48.0 | none    | green, grey         | unknown       |  NA | male   | masculine | Skako        | Skakoan   | Attack of the Clones | <!----> | <!----> |\n| San Hill            | 191 |    NA | none    | grey                | gold          |  NA | male   | masculine | Muunilinst   | Muun      | Attack of the Clones | <!----> | <!----> |\n| Shaak Ti            | 178 |  57.0 | none    | red, blue, white    | black         |  NA | female | feminine  | Shili        | Togruta   | Attack of the Clones, Revenge of the Sith  | <!----> | <!----> |\n| Grievous            | 216 | 159.0 | none    | brown, white        | green, yellow |  NA | male   | masculine | Kalee        | Kaleesh   | Revenge of the Sith | Tsmeu-6 personal wheel bike | Belbullab-22 starfighter |\n| Tarfful             | 234 | 136.0 | brown   | brown               | blue          |  NA | male   | masculine | Kashyyyk     | Wookiee   | Revenge of the Sith | <!----> | <!----> |\n| Raymus Antilles     | 188 |  79.0 | brown   | light               | brown         |  NA | male   | masculine | Alderaan     | Human     | Revenge of the Sith, A New Hope          | <!----> | <!----> |\n| Sly Moore           | 178 |  48.0 | none    | pale                | white         |  NA | NA     | NA        | Umbara       | NA        | Attack of the Clones, Revenge of the Sith  | <!----> | <!----> |\n| Tion Medon          | 206 |  80.0 | none    | grey                | black         |  NA | male   | masculine | Utapau       | Pau'an    | Revenge of the Sith | <!----> | <!----> |\n| Finn                |  NA |    NA | black   | dark                | dark          |  NA | male   | masculine | NA           | Human     | The Force Awakens | <!----> | <!----> |\n| Rey                 |  NA |    NA | brown   | light               | hazel         |  NA | female | feminine  | NA           | Human     | The Force Awakens | <!----> | <!----> |\n| Poe Dameron         |  NA |    NA | brown   | light               | brown         |  NA | male   | masculine | NA           | Human     | The Force Awakens | <!----> | T-70 X-wing fighter |\n| BB8                 |  NA |    NA | none    | none                | black         |  NA | none   | masculine | NA           | Droid     | The Force Awakens | <!----> | <!----> |\n| Captain Phasma      |  NA |    NA | unknown | unknown             | unknown       |  NA | NA     | NA        | NA           | NA        | The Force Awakens | <!----> | <!----> |\n| Padmé Amidala       | 165 |  45.0 | brown   | light               | brown         |  46 | female | feminine  | Naboo        | Human     | Attack of the Clones, The Phantom Menace  , Revenge of the Sith  | <!----> | H-type Nubian yacht, Naboo star skiff   , Naboo fighter       |\n\n",
            "text/latex": "A tibble: 87 × 14\n\\begin{tabular}{llllllllllllll}\n name & height & mass & hair\\_color & skin\\_color & eye\\_color & birth\\_year & sex & gender & homeworld & species & films & vehicles & starships\\\\\n <chr> & <int> & <dbl> & <chr> & <chr> & <chr> & <dbl> & <chr> & <chr> & <chr> & <chr> & <list> & <list> & <list>\\\\\n\\hline\n\t Luke Skywalker        & 172 &   77.0 & blond         & fair             & blue      &  19.0 & male           & masculine & Tatooine   & Human          & The Empire Strikes Back, Revenge of the Sith    , Return of the Jedi     , A New Hope             , The Force Awakens       & Snowspeeder          , Imperial Speeder Bike & X-wing          , Imperial shuttle\\\\\n\t C-3PO                 & 167 &   75.0 & NA            & gold             & yellow    & 112.0 & none           & masculine & Tatooine   & Droid          & The Empire Strikes Back, Attack of the Clones   , The Phantom Menace     , Revenge of the Sith    , Return of the Jedi     , A New Hope              &  & \\\\\n\t R2-D2                 &  96 &   32.0 & NA            & white, blue      & red       &  33.0 & none           & masculine & Naboo      & Droid          & The Empire Strikes Back, Attack of the Clones   , The Phantom Menace     , Revenge of the Sith    , Return of the Jedi     , A New Hope             , The Force Awakens       &  & \\\\\n\t Darth Vader           & 202 &  136.0 & none          & white            & yellow    &  41.9 & male           & masculine & Tatooine   & Human          & The Empire Strikes Back, Revenge of the Sith    , Return of the Jedi     , A New Hope              &  & TIE Advanced x1\\\\\n\t Leia Organa           & 150 &   49.0 & brown         & light            & brown     &  19.0 & female         & feminine  & Alderaan   & Human          & The Empire Strikes Back, Revenge of the Sith    , Return of the Jedi     , A New Hope             , The Force Awakens       & Imperial Speeder Bike & \\\\\n\t Owen Lars             & 178 &  120.0 & brown, grey   & light            & blue      &  52.0 & male           & masculine & Tatooine   & Human          & Attack of the Clones, Revenge of the Sith , A New Hope           &  & \\\\\n\t Beru Whitesun lars    & 165 &   75.0 & brown         & light            & blue      &  47.0 & female         & feminine  & Tatooine   & Human          & Attack of the Clones, Revenge of the Sith , A New Hope           &  & \\\\\n\t R5-D4                 &  97 &   32.0 & NA            & white, red       & red       &    NA & none           & masculine & Tatooine   & Droid          & A New Hope &  & \\\\\n\t Biggs Darklighter     & 183 &   84.0 & black         & light            & brown     &  24.0 & male           & masculine & Tatooine   & Human          & A New Hope &  & X-wing\\\\\n\t Obi-Wan Kenobi        & 182 &   77.0 & auburn, white & fair             & blue-gray &  57.0 & male           & masculine & Stewjon    & Human          & The Empire Strikes Back, Attack of the Clones   , The Phantom Menace     , Revenge of the Sith    , Return of the Jedi     , A New Hope              & Tribubble bongo & Jedi starfighter        , Trade Federation cruiser, Naboo star skiff        , Jedi Interceptor        , Belbullab-22 starfighter\\\\\n\t Anakin Skywalker      & 188 &   84.0 & blond         & fair             & blue      &  41.9 & male           & masculine & Tatooine   & Human          & Attack of the Clones, The Phantom Menace  , Revenge of the Sith  & Zephyr-G swoop bike, XJ-6 airspeeder     & Trade Federation cruiser, Jedi Interceptor        , Naboo fighter           \\\\\n\t Wilhuff Tarkin        & 180 &     NA & auburn, grey  & fair             & blue      &  64.0 & male           & masculine & Eriadu     & Human          & Revenge of the Sith, A New Hope          &  & \\\\\n\t Chewbacca             & 228 &  112.0 & brown         & unknown          & blue      & 200.0 & male           & masculine & Kashyyyk   & Wookiee        & The Empire Strikes Back, Revenge of the Sith    , Return of the Jedi     , A New Hope             , The Force Awakens       & AT-ST & Millennium Falcon, Imperial shuttle \\\\\n\t Han Solo              & 180 &   80.0 & brown         & fair             & brown     &  29.0 & male           & masculine & Corellia   & Human          & The Empire Strikes Back, Return of the Jedi     , A New Hope             , The Force Awakens       &  & Millennium Falcon, Imperial shuttle \\\\\n\t Greedo                & 173 &   74.0 & NA            & green            & black     &  44.0 & male           & masculine & Rodia      & Rodian         & A New Hope &  & \\\\\n\t Jabba Desilijic Tiure & 175 & 1358.0 & NA            & green-tan, brown & orange    & 600.0 & hermaphroditic & masculine & Nal Hutta  & Hutt           & The Phantom Menace, Return of the Jedi, A New Hope         &  & \\\\\n\t Wedge Antilles        & 170 &   77.0 & brown         & fair             & hazel     &  21.0 & male           & masculine & Corellia   & Human          & The Empire Strikes Back, Return of the Jedi     , A New Hope              & Snowspeeder & X-wing\\\\\n\t Jek Tono Porkins      & 180 &  110.0 & brown         & fair             & blue      &    NA & male           & masculine & Bestine IV & Human          & A New Hope &  & X-wing\\\\\n\t Yoda                  &  66 &   17.0 & white         & green            & brown     & 896.0 & male           & masculine & NA         & Yoda's species & The Empire Strikes Back, Attack of the Clones   , The Phantom Menace     , Revenge of the Sith    , Return of the Jedi      &  & \\\\\n\t Palpatine             & 170 &   75.0 & grey          & pale             & yellow    &  82.0 & male           & masculine & Naboo      & Human          & The Empire Strikes Back, Attack of the Clones   , The Phantom Menace     , Revenge of the Sith    , Return of the Jedi      &  & \\\\\n\t Boba Fett             & 183 &   78.2 & black         & fair             & brown     &  31.5 & male           & masculine & Kamino     & Human          & The Empire Strikes Back, Attack of the Clones   , Return of the Jedi      &  & Slave 1\\\\\n\t IG-88                 & 200 &  140.0 & none          & metal            & red       &  15.0 & none           & masculine & NA         & Droid          & The Empire Strikes Back &  & \\\\\n\t Bossk                 & 190 &  113.0 & none          & green            & red       &  53.0 & male           & masculine & Trandosha  & Trandoshan     & The Empire Strikes Back &  & \\\\\n\t Lando Calrissian      & 177 &   79.0 & black         & dark             & brown     &  31.0 & male           & masculine & Socorro    & Human          & The Empire Strikes Back, Return of the Jedi      &  & Millennium Falcon\\\\\n\t Lobot                 & 175 &   79.0 & none          & light            & blue      &  37.0 & male           & masculine & Bespin     & Human          & The Empire Strikes Back &  & \\\\\n\t Ackbar                & 180 &   83.0 & none          & brown mottle     & orange    &  41.0 & male           & masculine & Mon Cala   & Mon Calamari   & Return of the Jedi, The Force Awakens  &  & \\\\\n\t Mon Mothma            & 150 &     NA & auburn        & fair             & blue      &  48.0 & female         & feminine  & Chandrila  & Human          & Return of the Jedi &  & \\\\\n\t Arvel Crynyd          &  NA &     NA & brown         & fair             & brown     &    NA & male           & masculine & NA         & Human          & Return of the Jedi &  & A-wing\\\\\n\t Wicket Systri Warrick &  88 &   20.0 & brown         & brown            & brown     &   8.0 & male           & masculine & Endor      & Ewok           & Return of the Jedi &  & \\\\\n\t Nien Nunb             & 160 &   68.0 & none          & grey             & black     &    NA & male           & masculine & Sullust    & Sullustan      & Return of the Jedi &  & Millennium Falcon\\\\\n\t ⋮ & ⋮ & ⋮ & ⋮ & ⋮ & ⋮ & ⋮ & ⋮ & ⋮ & ⋮ & ⋮ & ⋮ & ⋮ & ⋮\\\\\n\t Cordé               & 157 &    NA & brown   & light               & brown         &  NA & female & feminine  & Naboo        & Human     & Attack of the Clones &  & \\\\\n\t Cliegg Lars         & 183 &    NA & brown   & fair                & blue          &  82 & male   & masculine & Tatooine     & Human     & Attack of the Clones &  & \\\\\n\t Poggle the Lesser   & 183 &  80.0 & none    & green               & yellow        &  NA & male   & masculine & Geonosis     & Geonosian & Attack of the Clones, Revenge of the Sith  &  & \\\\\n\t Luminara Unduli     & 170 &  56.2 & black   & yellow              & blue          &  58 & female & feminine  & Mirial       & Mirialan  & Attack of the Clones, Revenge of the Sith  &  & \\\\\n\t Barriss Offee       & 166 &  50.0 & black   & yellow              & blue          &  40 & female & feminine  & Mirial       & Mirialan  & Attack of the Clones &  & \\\\\n\t Dormé               & 165 &    NA & brown   & light               & brown         &  NA & female & feminine  & Naboo        & Human     & Attack of the Clones &  & \\\\\n\t Dooku               & 193 &  80.0 & white   & fair                & brown         & 102 & male   & masculine & Serenno      & Human     & Attack of the Clones, Revenge of the Sith  & Flitknot speeder & \\\\\n\t Bail Prestor Organa & 191 &    NA & black   & tan                 & brown         &  67 & male   & masculine & Alderaan     & Human     & Attack of the Clones, Revenge of the Sith  &  & \\\\\n\t Jango Fett          & 183 &  79.0 & black   & tan                 & brown         &  66 & male   & masculine & Concord Dawn & Human     & Attack of the Clones &  & \\\\\n\t Zam Wesell          & 168 &  55.0 & blonde  & fair, green, yellow & yellow        &  NA & female & feminine  & Zolan        & Clawdite  & Attack of the Clones & Koro-2 Exodrive airspeeder & \\\\\n\t Dexter Jettster     & 198 & 102.0 & none    & brown               & yellow        &  NA & male   & masculine & Ojom         & Besalisk  & Attack of the Clones &  & \\\\\n\t Lama Su             & 229 &  88.0 & none    & grey                & black         &  NA & male   & masculine & Kamino       & Kaminoan  & Attack of the Clones &  & \\\\\n\t Taun We             & 213 &    NA & none    & grey                & black         &  NA & female & feminine  & Kamino       & Kaminoan  & Attack of the Clones &  & \\\\\n\t Jocasta Nu          & 167 &    NA & white   & fair                & blue          &  NA & female & feminine  & Coruscant    & Human     & Attack of the Clones &  & \\\\\n\t Ratts Tyerell       &  79 &  15.0 & none    & grey, blue          & unknown       &  NA & male   & masculine & Aleen Minor  & Aleena    & The Phantom Menace &  & \\\\\n\t R4-P17              &  96 &    NA & none    & silver, red         & red, blue     &  NA & none   & feminine  & NA           & Droid     & Attack of the Clones, Revenge of the Sith  &  & \\\\\n\t Wat Tambor          & 193 &  48.0 & none    & green, grey         & unknown       &  NA & male   & masculine & Skako        & Skakoan   & Attack of the Clones &  & \\\\\n\t San Hill            & 191 &    NA & none    & grey                & gold          &  NA & male   & masculine & Muunilinst   & Muun      & Attack of the Clones &  & \\\\\n\t Shaak Ti            & 178 &  57.0 & none    & red, blue, white    & black         &  NA & female & feminine  & Shili        & Togruta   & Attack of the Clones, Revenge of the Sith  &  & \\\\\n\t Grievous            & 216 & 159.0 & none    & brown, white        & green, yellow &  NA & male   & masculine & Kalee        & Kaleesh   & Revenge of the Sith & Tsmeu-6 personal wheel bike & Belbullab-22 starfighter\\\\\n\t Tarfful             & 234 & 136.0 & brown   & brown               & blue          &  NA & male   & masculine & Kashyyyk     & Wookiee   & Revenge of the Sith &  & \\\\\n\t Raymus Antilles     & 188 &  79.0 & brown   & light               & brown         &  NA & male   & masculine & Alderaan     & Human     & Revenge of the Sith, A New Hope          &  & \\\\\n\t Sly Moore           & 178 &  48.0 & none    & pale                & white         &  NA & NA     & NA        & Umbara       & NA        & Attack of the Clones, Revenge of the Sith  &  & \\\\\n\t Tion Medon          & 206 &  80.0 & none    & grey                & black         &  NA & male   & masculine & Utapau       & Pau'an    & Revenge of the Sith &  & \\\\\n\t Finn                &  NA &    NA & black   & dark                & dark          &  NA & male   & masculine & NA           & Human     & The Force Awakens &  & \\\\\n\t Rey                 &  NA &    NA & brown   & light               & hazel         &  NA & female & feminine  & NA           & Human     & The Force Awakens &  & \\\\\n\t Poe Dameron         &  NA &    NA & brown   & light               & brown         &  NA & male   & masculine & NA           & Human     & The Force Awakens &  & T-70 X-wing fighter\\\\\n\t BB8                 &  NA &    NA & none    & none                & black         &  NA & none   & masculine & NA           & Droid     & The Force Awakens &  & \\\\\n\t Captain Phasma      &  NA &    NA & unknown & unknown             & unknown       &  NA & NA     & NA        & NA           & NA        & The Force Awakens &  & \\\\\n\t Padmé Amidala       & 165 &  45.0 & brown   & light               & brown         &  46 & female & feminine  & Naboo        & Human     & Attack of the Clones, The Phantom Menace  , Revenge of the Sith  &  & H-type Nubian yacht, Naboo star skiff   , Naboo fighter      \\\\\n\\end{tabular}\n",
            "text/plain": [
              "   name                  height mass   hair_color    skin_color         \n",
              "1  Luke Skywalker        172      77.0 blond         fair               \n",
              "2  C-3PO                 167      75.0 NA            gold               \n",
              "3  R2-D2                  96      32.0 NA            white, blue        \n",
              "4  Darth Vader           202     136.0 none          white              \n",
              "5  Leia Organa           150      49.0 brown         light              \n",
              "6  Owen Lars             178     120.0 brown, grey   light              \n",
              "7  Beru Whitesun lars    165      75.0 brown         light              \n",
              "8  R5-D4                  97      32.0 NA            white, red         \n",
              "9  Biggs Darklighter     183      84.0 black         light              \n",
              "10 Obi-Wan Kenobi        182      77.0 auburn, white fair               \n",
              "11 Anakin Skywalker      188      84.0 blond         fair               \n",
              "12 Wilhuff Tarkin        180        NA auburn, grey  fair               \n",
              "13 Chewbacca             228     112.0 brown         unknown            \n",
              "14 Han Solo              180      80.0 brown         fair               \n",
              "15 Greedo                173      74.0 NA            green              \n",
              "16 Jabba Desilijic Tiure 175    1358.0 NA            green-tan, brown   \n",
              "17 Wedge Antilles        170      77.0 brown         fair               \n",
              "18 Jek Tono Porkins      180     110.0 brown         fair               \n",
              "19 Yoda                   66      17.0 white         green              \n",
              "20 Palpatine             170      75.0 grey          pale               \n",
              "21 Boba Fett             183      78.2 black         fair               \n",
              "22 IG-88                 200     140.0 none          metal              \n",
              "23 Bossk                 190     113.0 none          green              \n",
              "24 Lando Calrissian      177      79.0 black         dark               \n",
              "25 Lobot                 175      79.0 none          light              \n",
              "26 Ackbar                180      83.0 none          brown mottle       \n",
              "27 Mon Mothma            150        NA auburn        fair               \n",
              "28 Arvel Crynyd           NA        NA brown         fair               \n",
              "29 Wicket Systri Warrick  88      20.0 brown         brown              \n",
              "30 Nien Nunb             160      68.0 none          grey               \n",
              "⋮  ⋮                     ⋮      ⋮      ⋮             ⋮                  \n",
              "58 Cordé                 157       NA  brown         light              \n",
              "59 Cliegg Lars           183       NA  brown         fair               \n",
              "60 Poggle the Lesser     183     80.0  none          green              \n",
              "61 Luminara Unduli       170     56.2  black         yellow             \n",
              "62 Barriss Offee         166     50.0  black         yellow             \n",
              "63 Dormé                 165       NA  brown         light              \n",
              "64 Dooku                 193     80.0  white         fair               \n",
              "65 Bail Prestor Organa   191       NA  black         tan                \n",
              "66 Jango Fett            183     79.0  black         tan                \n",
              "67 Zam Wesell            168     55.0  blonde        fair, green, yellow\n",
              "68 Dexter Jettster       198    102.0  none          brown              \n",
              "69 Lama Su               229     88.0  none          grey               \n",
              "70 Taun We               213       NA  none          grey               \n",
              "71 Jocasta Nu            167       NA  white         fair               \n",
              "72 Ratts Tyerell          79     15.0  none          grey, blue         \n",
              "73 R4-P17                 96       NA  none          silver, red        \n",
              "74 Wat Tambor            193     48.0  none          green, grey        \n",
              "75 San Hill              191       NA  none          grey               \n",
              "76 Shaak Ti              178     57.0  none          red, blue, white   \n",
              "77 Grievous              216    159.0  none          brown, white       \n",
              "78 Tarfful               234    136.0  brown         brown              \n",
              "79 Raymus Antilles       188     79.0  brown         light              \n",
              "80 Sly Moore             178     48.0  none          pale               \n",
              "81 Tion Medon            206     80.0  none          grey               \n",
              "82 Finn                   NA       NA  black         dark               \n",
              "83 Rey                    NA       NA  brown         light              \n",
              "84 Poe Dameron            NA       NA  brown         light              \n",
              "85 BB8                    NA       NA  none          none               \n",
              "86 Captain Phasma         NA       NA  unknown       unknown            \n",
              "87 Padmé Amidala         165     45.0  brown         light              \n",
              "   eye_color     birth_year sex            gender    homeworld   \n",
              "1  blue           19.0      male           masculine Tatooine    \n",
              "2  yellow        112.0      none           masculine Tatooine    \n",
              "3  red            33.0      none           masculine Naboo       \n",
              "4  yellow         41.9      male           masculine Tatooine    \n",
              "5  brown          19.0      female         feminine  Alderaan    \n",
              "6  blue           52.0      male           masculine Tatooine    \n",
              "7  blue           47.0      female         feminine  Tatooine    \n",
              "8  red              NA      none           masculine Tatooine    \n",
              "9  brown          24.0      male           masculine Tatooine    \n",
              "10 blue-gray      57.0      male           masculine Stewjon     \n",
              "11 blue           41.9      male           masculine Tatooine    \n",
              "12 blue           64.0      male           masculine Eriadu      \n",
              "13 blue          200.0      male           masculine Kashyyyk    \n",
              "14 brown          29.0      male           masculine Corellia    \n",
              "15 black          44.0      male           masculine Rodia       \n",
              "16 orange        600.0      hermaphroditic masculine Nal Hutta   \n",
              "17 hazel          21.0      male           masculine Corellia    \n",
              "18 blue             NA      male           masculine Bestine IV  \n",
              "19 brown         896.0      male           masculine NA          \n",
              "20 yellow         82.0      male           masculine Naboo       \n",
              "21 brown          31.5      male           masculine Kamino      \n",
              "22 red            15.0      none           masculine NA          \n",
              "23 red            53.0      male           masculine Trandosha   \n",
              "24 brown          31.0      male           masculine Socorro     \n",
              "25 blue           37.0      male           masculine Bespin      \n",
              "26 orange         41.0      male           masculine Mon Cala    \n",
              "27 blue           48.0      female         feminine  Chandrila   \n",
              "28 brown            NA      male           masculine NA          \n",
              "29 brown           8.0      male           masculine Endor       \n",
              "30 black            NA      male           masculine Sullust     \n",
              "⋮  ⋮             ⋮          ⋮              ⋮         ⋮           \n",
              "58 brown          NA        female         feminine  Naboo       \n",
              "59 blue           82        male           masculine Tatooine    \n",
              "60 yellow         NA        male           masculine Geonosis    \n",
              "61 blue           58        female         feminine  Mirial      \n",
              "62 blue           40        female         feminine  Mirial      \n",
              "63 brown          NA        female         feminine  Naboo       \n",
              "64 brown         102        male           masculine Serenno     \n",
              "65 brown          67        male           masculine Alderaan    \n",
              "66 brown          66        male           masculine Concord Dawn\n",
              "67 yellow         NA        female         feminine  Zolan       \n",
              "68 yellow         NA        male           masculine Ojom        \n",
              "69 black          NA        male           masculine Kamino      \n",
              "70 black          NA        female         feminine  Kamino      \n",
              "71 blue           NA        female         feminine  Coruscant   \n",
              "72 unknown        NA        male           masculine Aleen Minor \n",
              "73 red, blue      NA        none           feminine  NA          \n",
              "74 unknown        NA        male           masculine Skako       \n",
              "75 gold           NA        male           masculine Muunilinst  \n",
              "76 black          NA        female         feminine  Shili       \n",
              "77 green, yellow  NA        male           masculine Kalee       \n",
              "78 blue           NA        male           masculine Kashyyyk    \n",
              "79 brown          NA        male           masculine Alderaan    \n",
              "80 white          NA        NA             NA        Umbara      \n",
              "81 black          NA        male           masculine Utapau      \n",
              "82 dark           NA        male           masculine NA          \n",
              "83 hazel          NA        female         feminine  NA          \n",
              "84 brown          NA        male           masculine NA          \n",
              "85 black          NA        none           masculine NA          \n",
              "86 unknown        NA        NA             NA        NA          \n",
              "87 brown          46        female         feminine  Naboo       \n",
              "   species       \n",
              "1  Human         \n",
              "2  Droid         \n",
              "3  Droid         \n",
              "4  Human         \n",
              "5  Human         \n",
              "6  Human         \n",
              "7  Human         \n",
              "8  Droid         \n",
              "9  Human         \n",
              "10 Human         \n",
              "11 Human         \n",
              "12 Human         \n",
              "13 Wookiee       \n",
              "14 Human         \n",
              "15 Rodian        \n",
              "16 Hutt          \n",
              "17 Human         \n",
              "18 Human         \n",
              "19 Yoda's species\n",
              "20 Human         \n",
              "21 Human         \n",
              "22 Droid         \n",
              "23 Trandoshan    \n",
              "24 Human         \n",
              "25 Human         \n",
              "26 Mon Calamari  \n",
              "27 Human         \n",
              "28 Human         \n",
              "29 Ewok          \n",
              "30 Sullustan     \n",
              "⋮  ⋮             \n",
              "58 Human         \n",
              "59 Human         \n",
              "60 Geonosian     \n",
              "61 Mirialan      \n",
              "62 Mirialan      \n",
              "63 Human         \n",
              "64 Human         \n",
              "65 Human         \n",
              "66 Human         \n",
              "67 Clawdite      \n",
              "68 Besalisk      \n",
              "69 Kaminoan      \n",
              "70 Kaminoan      \n",
              "71 Human         \n",
              "72 Aleena        \n",
              "73 Droid         \n",
              "74 Skakoan       \n",
              "75 Muun          \n",
              "76 Togruta       \n",
              "77 Kaleesh       \n",
              "78 Wookiee       \n",
              "79 Human         \n",
              "80 NA            \n",
              "81 Pau'an        \n",
              "82 Human         \n",
              "83 Human         \n",
              "84 Human         \n",
              "85 Droid         \n",
              "86 NA            \n",
              "87 Human         \n",
              "   films                                                                                                                                                                        \n",
              "1  The Empire Strikes Back, Revenge of the Sith    , Return of the Jedi     , A New Hope             , The Force Awakens                                                        \n",
              "2  The Empire Strikes Back, Attack of the Clones   , The Phantom Menace     , Revenge of the Sith    , Return of the Jedi     , A New Hope                                      \n",
              "3  The Empire Strikes Back, Attack of the Clones   , The Phantom Menace     , Revenge of the Sith    , Return of the Jedi     , A New Hope             , The Force Awakens      \n",
              "4  The Empire Strikes Back, Revenge of the Sith    , Return of the Jedi     , A New Hope                                                                                        \n",
              "5  The Empire Strikes Back, Revenge of the Sith    , Return of the Jedi     , A New Hope             , The Force Awakens                                                        \n",
              "6  Attack of the Clones, Revenge of the Sith , A New Hope                                                                                                                       \n",
              "7  Attack of the Clones, Revenge of the Sith , A New Hope                                                                                                                       \n",
              "8  A New Hope                                                                                                                                                                   \n",
              "9  A New Hope                                                                                                                                                                   \n",
              "10 The Empire Strikes Back, Attack of the Clones   , The Phantom Menace     , Revenge of the Sith    , Return of the Jedi     , A New Hope                                      \n",
              "11 Attack of the Clones, The Phantom Menace  , Revenge of the Sith                                                                                                              \n",
              "12 Revenge of the Sith, A New Hope                                                                                                                                              \n",
              "13 The Empire Strikes Back, Revenge of the Sith    , Return of the Jedi     , A New Hope             , The Force Awakens                                                        \n",
              "14 The Empire Strikes Back, Return of the Jedi     , A New Hope             , The Force Awakens                                                                                 \n",
              "15 A New Hope                                                                                                                                                                   \n",
              "16 The Phantom Menace, Return of the Jedi, A New Hope                                                                                                                           \n",
              "17 The Empire Strikes Back, Return of the Jedi     , A New Hope                                                                                                                 \n",
              "18 A New Hope                                                                                                                                                                   \n",
              "19 The Empire Strikes Back, Attack of the Clones   , The Phantom Menace     , Revenge of the Sith    , Return of the Jedi                                                       \n",
              "20 The Empire Strikes Back, Attack of the Clones   , The Phantom Menace     , Revenge of the Sith    , Return of the Jedi                                                       \n",
              "21 The Empire Strikes Back, Attack of the Clones   , Return of the Jedi                                                                                                         \n",
              "22 The Empire Strikes Back                                                                                                                                                      \n",
              "23 The Empire Strikes Back                                                                                                                                                      \n",
              "24 The Empire Strikes Back, Return of the Jedi                                                                                                                                  \n",
              "25 The Empire Strikes Back                                                                                                                                                      \n",
              "26 Return of the Jedi, The Force Awakens                                                                                                                                        \n",
              "27 Return of the Jedi                                                                                                                                                           \n",
              "28 Return of the Jedi                                                                                                                                                           \n",
              "29 Return of the Jedi                                                                                                                                                           \n",
              "30 Return of the Jedi                                                                                                                                                           \n",
              "⋮  ⋮                                                                                                                                                                            \n",
              "58 Attack of the Clones                                                                                                                                                         \n",
              "59 Attack of the Clones                                                                                                                                                         \n",
              "60 Attack of the Clones, Revenge of the Sith                                                                                                                                    \n",
              "61 Attack of the Clones, Revenge of the Sith                                                                                                                                    \n",
              "62 Attack of the Clones                                                                                                                                                         \n",
              "63 Attack of the Clones                                                                                                                                                         \n",
              "64 Attack of the Clones, Revenge of the Sith                                                                                                                                    \n",
              "65 Attack of the Clones, Revenge of the Sith                                                                                                                                    \n",
              "66 Attack of the Clones                                                                                                                                                         \n",
              "67 Attack of the Clones                                                                                                                                                         \n",
              "68 Attack of the Clones                                                                                                                                                         \n",
              "69 Attack of the Clones                                                                                                                                                         \n",
              "70 Attack of the Clones                                                                                                                                                         \n",
              "71 Attack of the Clones                                                                                                                                                         \n",
              "72 The Phantom Menace                                                                                                                                                           \n",
              "73 Attack of the Clones, Revenge of the Sith                                                                                                                                    \n",
              "74 Attack of the Clones                                                                                                                                                         \n",
              "75 Attack of the Clones                                                                                                                                                         \n",
              "76 Attack of the Clones, Revenge of the Sith                                                                                                                                    \n",
              "77 Revenge of the Sith                                                                                                                                                          \n",
              "78 Revenge of the Sith                                                                                                                                                          \n",
              "79 Revenge of the Sith, A New Hope                                                                                                                                              \n",
              "80 Attack of the Clones, Revenge of the Sith                                                                                                                                    \n",
              "81 Revenge of the Sith                                                                                                                                                          \n",
              "82 The Force Awakens                                                                                                                                                            \n",
              "83 The Force Awakens                                                                                                                                                            \n",
              "84 The Force Awakens                                                                                                                                                            \n",
              "85 The Force Awakens                                                                                                                                                            \n",
              "86 The Force Awakens                                                                                                                                                            \n",
              "87 Attack of the Clones, The Phantom Menace  , Revenge of the Sith                                                                                                              \n",
              "   vehicles                                    \n",
              "1  Snowspeeder          , Imperial Speeder Bike\n",
              "2                                              \n",
              "3                                              \n",
              "4                                              \n",
              "5  Imperial Speeder Bike                       \n",
              "6                                              \n",
              "7                                              \n",
              "8                                              \n",
              "9                                              \n",
              "10 Tribubble bongo                             \n",
              "11 Zephyr-G swoop bike, XJ-6 airspeeder        \n",
              "12                                             \n",
              "13 AT-ST                                       \n",
              "14                                             \n",
              "15                                             \n",
              "16                                             \n",
              "17 Snowspeeder                                 \n",
              "18                                             \n",
              "19                                             \n",
              "20                                             \n",
              "21                                             \n",
              "22                                             \n",
              "23                                             \n",
              "24                                             \n",
              "25                                             \n",
              "26                                             \n",
              "27                                             \n",
              "28                                             \n",
              "29                                             \n",
              "30                                             \n",
              "⋮  ⋮                                           \n",
              "58                                             \n",
              "59                                             \n",
              "60                                             \n",
              "61                                             \n",
              "62                                             \n",
              "63                                             \n",
              "64 Flitknot speeder                            \n",
              "65                                             \n",
              "66                                             \n",
              "67 Koro-2 Exodrive airspeeder                  \n",
              "68                                             \n",
              "69                                             \n",
              "70                                             \n",
              "71                                             \n",
              "72                                             \n",
              "73                                             \n",
              "74                                             \n",
              "75                                             \n",
              "76                                             \n",
              "77 Tsmeu-6 personal wheel bike                 \n",
              "78                                             \n",
              "79                                             \n",
              "80                                             \n",
              "81                                             \n",
              "82                                             \n",
              "83                                             \n",
              "84                                             \n",
              "85                                             \n",
              "86                                             \n",
              "87                                             \n",
              "   starships                                                                                                                       \n",
              "1  X-wing          , Imperial shuttle                                                                                              \n",
              "2                                                                                                                                  \n",
              "3                                                                                                                                  \n",
              "4  TIE Advanced x1                                                                                                                 \n",
              "5                                                                                                                                  \n",
              "6                                                                                                                                  \n",
              "7                                                                                                                                  \n",
              "8                                                                                                                                  \n",
              "9  X-wing                                                                                                                          \n",
              "10 Jedi starfighter        , Trade Federation cruiser, Naboo star skiff        , Jedi Interceptor        , Belbullab-22 starfighter\n",
              "11 Trade Federation cruiser, Jedi Interceptor        , Naboo fighter                                                               \n",
              "12                                                                                                                                 \n",
              "13 Millennium Falcon, Imperial shuttle                                                                                             \n",
              "14 Millennium Falcon, Imperial shuttle                                                                                             \n",
              "15                                                                                                                                 \n",
              "16                                                                                                                                 \n",
              "17 X-wing                                                                                                                          \n",
              "18 X-wing                                                                                                                          \n",
              "19                                                                                                                                 \n",
              "20                                                                                                                                 \n",
              "21 Slave 1                                                                                                                         \n",
              "22                                                                                                                                 \n",
              "23                                                                                                                                 \n",
              "24 Millennium Falcon                                                                                                               \n",
              "25                                                                                                                                 \n",
              "26                                                                                                                                 \n",
              "27                                                                                                                                 \n",
              "28 A-wing                                                                                                                          \n",
              "29                                                                                                                                 \n",
              "30 Millennium Falcon                                                                                                               \n",
              "⋮  ⋮                                                                                                                               \n",
              "58                                                                                                                                 \n",
              "59                                                                                                                                 \n",
              "60                                                                                                                                 \n",
              "61                                                                                                                                 \n",
              "62                                                                                                                                 \n",
              "63                                                                                                                                 \n",
              "64                                                                                                                                 \n",
              "65                                                                                                                                 \n",
              "66                                                                                                                                 \n",
              "67                                                                                                                                 \n",
              "68                                                                                                                                 \n",
              "69                                                                                                                                 \n",
              "70                                                                                                                                 \n",
              "71                                                                                                                                 \n",
              "72                                                                                                                                 \n",
              "73                                                                                                                                 \n",
              "74                                                                                                                                 \n",
              "75                                                                                                                                 \n",
              "76                                                                                                                                 \n",
              "77 Belbullab-22 starfighter                                                                                                        \n",
              "78                                                                                                                                 \n",
              "79                                                                                                                                 \n",
              "80                                                                                                                                 \n",
              "81                                                                                                                                 \n",
              "82                                                                                                                                 \n",
              "83                                                                                                                                 \n",
              "84 T-70 X-wing fighter                                                                                                             \n",
              "85                                                                                                                                 \n",
              "86                                                                                                                                 \n",
              "87 H-type Nubian yacht, Naboo star skiff   , Naboo fighter                                                                         "
            ]
          },
          "metadata": {}
        },
        {
          "output_type": "stream",
          "name": "stdout",
          "text": [
            "tibble [87 × 14] (S3: tbl_df/tbl/data.frame)\n",
            " $ name      : chr [1:87] \"Luke Skywalker\" \"C-3PO\" \"R2-D2\" \"Darth Vader\" ...\n",
            " $ height    : int [1:87] 172 167 96 202 150 178 165 97 183 182 ...\n",
            " $ mass      : num [1:87] 77 75 32 136 49 120 75 32 84 77 ...\n",
            " $ hair_color: chr [1:87] \"blond\" NA NA \"none\" ...\n",
            " $ skin_color: chr [1:87] \"fair\" \"gold\" \"white, blue\" \"white\" ...\n",
            " $ eye_color : chr [1:87] \"blue\" \"yellow\" \"red\" \"yellow\" ...\n",
            " $ birth_year: num [1:87] 19 112 33 41.9 19 52 47 NA 24 57 ...\n",
            " $ sex       : chr [1:87] \"male\" \"none\" \"none\" \"male\" ...\n",
            " $ gender    : chr [1:87] \"masculine\" \"masculine\" \"masculine\" \"masculine\" ...\n",
            " $ homeworld : chr [1:87] \"Tatooine\" \"Tatooine\" \"Naboo\" \"Tatooine\" ...\n",
            " $ species   : chr [1:87] \"Human\" \"Droid\" \"Droid\" \"Human\" ...\n",
            " $ films     :List of 87\n",
            "  ..$ : chr [1:5] \"The Empire Strikes Back\" \"Revenge of the Sith\" \"Return of the Jedi\" \"A New Hope\" ...\n",
            "  ..$ : chr [1:6] \"The Empire Strikes Back\" \"Attack of the Clones\" \"The Phantom Menace\" \"Revenge of the Sith\" ...\n",
            "  ..$ : chr [1:7] \"The Empire Strikes Back\" \"Attack of the Clones\" \"The Phantom Menace\" \"Revenge of the Sith\" ...\n",
            "  ..$ : chr [1:4] \"The Empire Strikes Back\" \"Revenge of the Sith\" \"Return of the Jedi\" \"A New Hope\"\n",
            "  ..$ : chr [1:5] \"The Empire Strikes Back\" \"Revenge of the Sith\" \"Return of the Jedi\" \"A New Hope\" ...\n",
            "  ..$ : chr [1:3] \"Attack of the Clones\" \"Revenge of the Sith\" \"A New Hope\"\n",
            "  ..$ : chr [1:3] \"Attack of the Clones\" \"Revenge of the Sith\" \"A New Hope\"\n",
            "  ..$ : chr \"A New Hope\"\n",
            "  ..$ : chr \"A New Hope\"\n",
            "  ..$ : chr [1:6] \"The Empire Strikes Back\" \"Attack of the Clones\" \"The Phantom Menace\" \"Revenge of the Sith\" ...\n",
            "  ..$ : chr [1:3] \"Attack of the Clones\" \"The Phantom Menace\" \"Revenge of the Sith\"\n",
            "  ..$ : chr [1:2] \"Revenge of the Sith\" \"A New Hope\"\n",
            "  ..$ : chr [1:5] \"The Empire Strikes Back\" \"Revenge of the Sith\" \"Return of the Jedi\" \"A New Hope\" ...\n",
            "  ..$ : chr [1:4] \"The Empire Strikes Back\" \"Return of the Jedi\" \"A New Hope\" \"The Force Awakens\"\n",
            "  ..$ : chr \"A New Hope\"\n",
            "  ..$ : chr [1:3] \"The Phantom Menace\" \"Return of the Jedi\" \"A New Hope\"\n",
            "  ..$ : chr [1:3] \"The Empire Strikes Back\" \"Return of the Jedi\" \"A New Hope\"\n",
            "  ..$ : chr \"A New Hope\"\n",
            "  ..$ : chr [1:5] \"The Empire Strikes Back\" \"Attack of the Clones\" \"The Phantom Menace\" \"Revenge of the Sith\" ...\n",
            "  ..$ : chr [1:5] \"The Empire Strikes Back\" \"Attack of the Clones\" \"The Phantom Menace\" \"Revenge of the Sith\" ...\n",
            "  ..$ : chr [1:3] \"The Empire Strikes Back\" \"Attack of the Clones\" \"Return of the Jedi\"\n",
            "  ..$ : chr \"The Empire Strikes Back\"\n",
            "  ..$ : chr \"The Empire Strikes Back\"\n",
            "  ..$ : chr [1:2] \"The Empire Strikes Back\" \"Return of the Jedi\"\n",
            "  ..$ : chr \"The Empire Strikes Back\"\n",
            "  ..$ : chr [1:2] \"Return of the Jedi\" \"The Force Awakens\"\n",
            "  ..$ : chr \"Return of the Jedi\"\n",
            "  ..$ : chr \"Return of the Jedi\"\n",
            "  ..$ : chr \"Return of the Jedi\"\n",
            "  ..$ : chr \"Return of the Jedi\"\n",
            "  ..$ : chr \"The Phantom Menace\"\n",
            "  ..$ : chr [1:3] \"Attack of the Clones\" \"The Phantom Menace\" \"Revenge of the Sith\"\n",
            "  ..$ : chr \"The Phantom Menace\"\n",
            "  ..$ : chr [1:2] \"Attack of the Clones\" \"The Phantom Menace\"\n",
            "  ..$ : chr \"The Phantom Menace\"\n",
            "  ..$ : chr \"The Phantom Menace\"\n",
            "  ..$ : chr \"The Phantom Menace\"\n",
            "  ..$ : chr [1:2] \"Attack of the Clones\" \"The Phantom Menace\"\n",
            "  ..$ : chr \"The Phantom Menace\"\n",
            "  ..$ : chr \"The Phantom Menace\"\n",
            "  ..$ : chr [1:2] \"Attack of the Clones\" \"The Phantom Menace\"\n",
            "  ..$ : chr \"The Phantom Menace\"\n",
            "  ..$ : chr \"Return of the Jedi\"\n",
            "  ..$ : chr [1:3] \"Attack of the Clones\" \"The Phantom Menace\" \"Revenge of the Sith\"\n",
            "  ..$ : chr \"The Phantom Menace\"\n",
            "  ..$ : chr \"The Phantom Menace\"\n",
            "  ..$ : chr \"The Phantom Menace\"\n",
            "  ..$ : chr [1:3] \"Attack of the Clones\" \"The Phantom Menace\" \"Revenge of the Sith\"\n",
            "  ..$ : chr [1:3] \"Attack of the Clones\" \"The Phantom Menace\" \"Revenge of the Sith\"\n",
            "  ..$ : chr [1:3] \"Attack of the Clones\" \"The Phantom Menace\" \"Revenge of the Sith\"\n",
            "  ..$ : chr [1:2] \"The Phantom Menace\" \"Revenge of the Sith\"\n",
            "  ..$ : chr [1:2] \"The Phantom Menace\" \"Revenge of the Sith\"\n",
            "  ..$ : chr [1:2] \"The Phantom Menace\" \"Revenge of the Sith\"\n",
            "  ..$ : chr \"The Phantom Menace\"\n",
            "  ..$ : chr [1:3] \"Attack of the Clones\" \"The Phantom Menace\" \"Revenge of the Sith\"\n",
            "  ..$ : chr [1:2] \"Attack of the Clones\" \"The Phantom Menace\"\n",
            "  ..$ : chr \"Attack of the Clones\"\n",
            "  ..$ : chr \"Attack of the Clones\"\n",
            "  ..$ : chr \"Attack of the Clones\"\n",
            "  ..$ : chr [1:2] \"Attack of the Clones\" \"Revenge of the Sith\"\n",
            "  ..$ : chr [1:2] \"Attack of the Clones\" \"Revenge of the Sith\"\n",
            "  ..$ : chr \"Attack of the Clones\"\n",
            "  ..$ : chr \"Attack of the Clones\"\n",
            "  ..$ : chr [1:2] \"Attack of the Clones\" \"Revenge of the Sith\"\n",
            "  ..$ : chr [1:2] \"Attack of the Clones\" \"Revenge of the Sith\"\n",
            "  ..$ : chr \"Attack of the Clones\"\n",
            "  ..$ : chr \"Attack of the Clones\"\n",
            "  ..$ : chr \"Attack of the Clones\"\n",
            "  ..$ : chr \"Attack of the Clones\"\n",
            "  ..$ : chr \"Attack of the Clones\"\n",
            "  ..$ : chr \"Attack of the Clones\"\n",
            "  ..$ : chr \"The Phantom Menace\"\n",
            "  ..$ : chr [1:2] \"Attack of the Clones\" \"Revenge of the Sith\"\n",
            "  ..$ : chr \"Attack of the Clones\"\n",
            "  ..$ : chr \"Attack of the Clones\"\n",
            "  ..$ : chr [1:2] \"Attack of the Clones\" \"Revenge of the Sith\"\n",
            "  ..$ : chr \"Revenge of the Sith\"\n",
            "  ..$ : chr \"Revenge of the Sith\"\n",
            "  ..$ : chr [1:2] \"Revenge of the Sith\" \"A New Hope\"\n",
            "  ..$ : chr [1:2] \"Attack of the Clones\" \"Revenge of the Sith\"\n",
            "  ..$ : chr \"Revenge of the Sith\"\n",
            "  ..$ : chr \"The Force Awakens\"\n",
            "  ..$ : chr \"The Force Awakens\"\n",
            "  ..$ : chr \"The Force Awakens\"\n",
            "  ..$ : chr \"The Force Awakens\"\n",
            "  ..$ : chr \"The Force Awakens\"\n",
            "  ..$ : chr [1:3] \"Attack of the Clones\" \"The Phantom Menace\" \"Revenge of the Sith\"\n",
            " $ vehicles  :List of 87\n",
            "  ..$ : chr [1:2] \"Snowspeeder\" \"Imperial Speeder Bike\"\n",
            "  ..$ : chr(0) \n",
            "  ..$ : chr(0) \n",
            "  ..$ : chr(0) \n",
            "  ..$ : chr \"Imperial Speeder Bike\"\n",
            "  ..$ : chr(0) \n",
            "  ..$ : chr(0) \n",
            "  ..$ : chr(0) \n",
            "  ..$ : chr(0) \n",
            "  ..$ : chr \"Tribubble bongo\"\n",
            "  ..$ : chr [1:2] \"Zephyr-G swoop bike\" \"XJ-6 airspeeder\"\n",
            "  ..$ : chr(0) \n",
            "  ..$ : chr \"AT-ST\"\n",
            "  ..$ : chr(0) \n",
            "  ..$ : chr(0) \n",
            "  ..$ : chr(0) \n",
            "  ..$ : chr \"Snowspeeder\"\n",
            "  ..$ : chr(0) \n",
            "  ..$ : chr(0) \n",
            "  ..$ : chr(0) \n",
            "  ..$ : chr(0) \n",
            "  ..$ : chr(0) \n",
            "  ..$ : chr(0) \n",
            "  ..$ : chr(0) \n",
            "  ..$ : chr(0) \n",
            "  ..$ : chr(0) \n",
            "  ..$ : chr(0) \n",
            "  ..$ : chr(0) \n",
            "  ..$ : chr(0) \n",
            "  ..$ : chr(0) \n",
            "  ..$ : chr \"Tribubble bongo\"\n",
            "  ..$ : chr(0) \n",
            "  ..$ : chr(0) \n",
            "  ..$ : chr(0) \n",
            "  ..$ : chr(0) \n",
            "  ..$ : chr(0) \n",
            "  ..$ : chr(0) \n",
            "  ..$ : chr(0) \n",
            "  ..$ : chr(0) \n",
            "  ..$ : chr(0) \n",
            "  ..$ : chr(0) \n",
            "  ..$ : chr \"Sith speeder\"\n",
            "  ..$ : chr(0) \n",
            "  ..$ : chr(0) \n",
            "  ..$ : chr(0) \n",
            "  ..$ : chr(0) \n",
            "  ..$ : chr(0) \n",
            "  ..$ : chr(0) \n",
            "  ..$ : chr(0) \n",
            "  ..$ : chr(0) \n",
            "  ..$ : chr(0) \n",
            "  ..$ : chr(0) \n",
            "  ..$ : chr(0) \n",
            "  ..$ : chr(0) \n",
            "  ..$ : chr(0) \n",
            "  ..$ : chr(0) \n",
            "  ..$ : chr(0) \n",
            "  ..$ : chr(0) \n",
            "  ..$ : chr(0) \n",
            "  ..$ : chr(0) \n",
            "  ..$ : chr(0) \n",
            "  ..$ : chr(0) \n",
            "  ..$ : chr(0) \n",
            "  ..$ : chr \"Flitknot speeder\"\n",
            "  ..$ : chr(0) \n",
            "  ..$ : chr(0) \n",
            "  ..$ : chr \"Koro-2 Exodrive airspeeder\"\n",
            "  ..$ : chr(0) \n",
            "  ..$ : chr(0) \n",
            "  ..$ : chr(0) \n",
            "  ..$ : chr(0) \n",
            "  ..$ : chr(0) \n",
            "  ..$ : chr(0) \n",
            "  ..$ : chr(0) \n",
            "  ..$ : chr(0) \n",
            "  ..$ : chr(0) \n",
            "  ..$ : chr \"Tsmeu-6 personal wheel bike\"\n",
            "  ..$ : chr(0) \n",
            "  ..$ : chr(0) \n",
            "  ..$ : chr(0) \n",
            "  ..$ : chr(0) \n",
            "  ..$ : chr(0) \n",
            "  ..$ : chr(0) \n",
            "  ..$ : chr(0) \n",
            "  ..$ : chr(0) \n",
            "  ..$ : chr(0) \n",
            "  ..$ : chr(0) \n",
            " $ starships :List of 87\n",
            "  ..$ : chr [1:2] \"X-wing\" \"Imperial shuttle\"\n",
            "  ..$ : chr(0) \n",
            "  ..$ : chr(0) \n",
            "  ..$ : chr \"TIE Advanced x1\"\n",
            "  ..$ : chr(0) \n",
            "  ..$ : chr(0) \n",
            "  ..$ : chr(0) \n",
            "  ..$ : chr(0) \n",
            "  ..$ : chr \"X-wing\"\n",
            "  ..$ : chr [1:5] \"Jedi starfighter\" \"Trade Federation cruiser\" \"Naboo star skiff\" \"Jedi Interceptor\" ...\n",
            "  ..$ : chr [1:3] \"Trade Federation cruiser\" \"Jedi Interceptor\" \"Naboo fighter\"\n",
            "  ..$ : chr(0) \n",
            "  ..$ : chr [1:2] \"Millennium Falcon\" \"Imperial shuttle\"\n",
            "  ..$ : chr [1:2] \"Millennium Falcon\" \"Imperial shuttle\"\n",
            "  ..$ : chr(0) \n",
            "  ..$ : chr(0) \n",
            "  ..$ : chr \"X-wing\"\n",
            "  ..$ : chr \"X-wing\"\n",
            "  ..$ : chr(0) \n",
            "  ..$ : chr(0) \n",
            "  ..$ : chr \"Slave 1\"\n",
            "  ..$ : chr(0) \n",
            "  ..$ : chr(0) \n",
            "  ..$ : chr \"Millennium Falcon\"\n",
            "  ..$ : chr(0) \n",
            "  ..$ : chr(0) \n",
            "  ..$ : chr(0) \n",
            "  ..$ : chr \"A-wing\"\n",
            "  ..$ : chr(0) \n",
            "  ..$ : chr \"Millennium Falcon\"\n",
            "  ..$ : chr(0) \n",
            "  ..$ : chr(0) \n",
            "  ..$ : chr(0) \n",
            "  ..$ : chr(0) \n",
            "  ..$ : chr(0) \n",
            "  ..$ : chr(0) \n",
            "  ..$ : chr \"Naboo Royal Starship\"\n",
            "  ..$ : chr(0) \n",
            "  ..$ : chr(0) \n",
            "  ..$ : chr(0) \n",
            "  ..$ : chr(0) \n",
            "  ..$ : chr \"Scimitar\"\n",
            "  ..$ : chr(0) \n",
            "  ..$ : chr(0) \n",
            "  ..$ : chr(0) \n",
            "  ..$ : chr(0) \n",
            "  ..$ : chr(0) \n",
            "  ..$ : chr(0) \n",
            "  ..$ : chr(0) \n",
            "  ..$ : chr(0) \n",
            "  ..$ : chr(0) \n",
            "  ..$ : chr(0) \n",
            "  ..$ : chr(0) \n",
            "  ..$ : chr(0) \n",
            "  ..$ : chr \"Jedi starfighter\"\n",
            "  ..$ : chr(0) \n",
            "  ..$ : chr \"Naboo fighter\"\n",
            "  ..$ : chr(0) \n",
            "  ..$ : chr(0) \n",
            "  ..$ : chr(0) \n",
            "  ..$ : chr(0) \n",
            "  ..$ : chr(0) \n",
            "  ..$ : chr(0) \n",
            "  ..$ : chr(0) \n",
            "  ..$ : chr(0) \n",
            "  ..$ : chr(0) \n",
            "  ..$ : chr(0) \n",
            "  ..$ : chr(0) \n",
            "  ..$ : chr(0) \n",
            "  ..$ : chr(0) \n",
            "  ..$ : chr(0) \n",
            "  ..$ : chr(0) \n",
            "  ..$ : chr(0) \n",
            "  ..$ : chr(0) \n",
            "  ..$ : chr(0) \n",
            "  ..$ : chr(0) \n",
            "  ..$ : chr \"Belbullab-22 starfighter\"\n",
            "  ..$ : chr(0) \n",
            "  ..$ : chr(0) \n",
            "  ..$ : chr(0) \n",
            "  ..$ : chr(0) \n",
            "  ..$ : chr(0) \n",
            "  ..$ : chr(0) \n",
            "  ..$ : chr \"T-70 X-wing fighter\"\n",
            "  ..$ : chr(0) \n",
            "  ..$ : chr(0) \n",
            "  ..$ : chr [1:3] \"H-type Nubian yacht\" \"Naboo star skiff\" \"Naboo fighter\"\n"
          ]
        }
      ]
    },
    {
      "cell_type": "code",
      "source": [
        "#query with tidyverse\n",
        "starwars %>%\n",
        "  select(name,height,sex,species) %>%\n",
        "  filter(species != 'Human') %>%\n",
        "  arrange(name)"
      ],
      "metadata": {
        "id": "Yt8VCpeAu_Zk",
        "outputId": "c63fe977-7b54-433c-ef0c-dc55f12b8248",
        "colab": {
          "base_uri": "https://localhost:8080/",
          "height": 1000
        }
      },
      "execution_count": null,
      "outputs": [
        {
          "output_type": "display_data",
          "data": {
            "text/html": [
              "<table class=\"dataframe\">\n",
              "<caption>A tibble: 48 × 4</caption>\n",
              "<thead>\n",
              "\t<tr><th scope=col>name</th><th scope=col>height</th><th scope=col>sex</th><th scope=col>species</th></tr>\n",
              "\t<tr><th scope=col>&lt;chr&gt;</th><th scope=col>&lt;int&gt;</th><th scope=col>&lt;chr&gt;</th><th scope=col>&lt;chr&gt;</th></tr>\n",
              "</thead>\n",
              "<tbody>\n",
              "\t<tr><td>Ackbar               </td><td>180</td><td>male          </td><td>Mon Calamari  </td></tr>\n",
              "\t<tr><td>Adi Gallia           </td><td>184</td><td>female        </td><td>Tholothian    </td></tr>\n",
              "\t<tr><td>Ayla Secura          </td><td>178</td><td>female        </td><td>Twi'lek       </td></tr>\n",
              "\t<tr><td>BB8                  </td><td> NA</td><td>none          </td><td>Droid         </td></tr>\n",
              "\t<tr><td>Barriss Offee        </td><td>166</td><td>female        </td><td>Mirialan      </td></tr>\n",
              "\t<tr><td>Ben Quadinaros       </td><td>163</td><td>male          </td><td>Toong         </td></tr>\n",
              "\t<tr><td>Bib Fortuna          </td><td>180</td><td>male          </td><td>Twi'lek       </td></tr>\n",
              "\t<tr><td>Bossk                </td><td>190</td><td>male          </td><td>Trandoshan    </td></tr>\n",
              "\t<tr><td>C-3PO                </td><td>167</td><td>none          </td><td>Droid         </td></tr>\n",
              "\t<tr><td>Chewbacca            </td><td>228</td><td>male          </td><td>Wookiee       </td></tr>\n",
              "\t<tr><td>Darth Maul           </td><td>175</td><td>male          </td><td>Zabrak        </td></tr>\n",
              "\t<tr><td>Dexter Jettster      </td><td>198</td><td>male          </td><td>Besalisk      </td></tr>\n",
              "\t<tr><td>Dud Bolt             </td><td> 94</td><td>male          </td><td>Vulptereen    </td></tr>\n",
              "\t<tr><td>Eeth Koth            </td><td>171</td><td>male          </td><td>Zabrak        </td></tr>\n",
              "\t<tr><td>Gasgano              </td><td>122</td><td>male          </td><td>Xexto         </td></tr>\n",
              "\t<tr><td>Greedo               </td><td>173</td><td>male          </td><td>Rodian        </td></tr>\n",
              "\t<tr><td>Grievous             </td><td>216</td><td>male          </td><td>Kaleesh       </td></tr>\n",
              "\t<tr><td>IG-88                </td><td>200</td><td>none          </td><td>Droid         </td></tr>\n",
              "\t<tr><td>Jabba Desilijic Tiure</td><td>175</td><td>hermaphroditic</td><td>Hutt          </td></tr>\n",
              "\t<tr><td>Jar Jar Binks        </td><td>196</td><td>male          </td><td>Gungan        </td></tr>\n",
              "\t<tr><td>Ki-Adi-Mundi         </td><td>198</td><td>male          </td><td>Cerean        </td></tr>\n",
              "\t<tr><td>Kit Fisto            </td><td>196</td><td>male          </td><td>Nautolan      </td></tr>\n",
              "\t<tr><td>Lama Su              </td><td>229</td><td>male          </td><td>Kaminoan      </td></tr>\n",
              "\t<tr><td>Luminara Unduli      </td><td>170</td><td>female        </td><td>Mirialan      </td></tr>\n",
              "\t<tr><td>Mas Amedda           </td><td>196</td><td>male          </td><td>Chagrian      </td></tr>\n",
              "\t<tr><td>Nien Nunb            </td><td>160</td><td>male          </td><td>Sullustan     </td></tr>\n",
              "\t<tr><td>Nute Gunray          </td><td>191</td><td>male          </td><td>Neimodian     </td></tr>\n",
              "\t<tr><td>Plo Koon             </td><td>188</td><td>male          </td><td>Kel Dor       </td></tr>\n",
              "\t<tr><td>Poggle the Lesser    </td><td>183</td><td>male          </td><td>Geonosian     </td></tr>\n",
              "\t<tr><td>R2-D2                </td><td> 96</td><td>none          </td><td>Droid         </td></tr>\n",
              "\t<tr><td>R4-P17               </td><td> 96</td><td>none          </td><td>Droid         </td></tr>\n",
              "\t<tr><td>R5-D4                </td><td> 97</td><td>none          </td><td>Droid         </td></tr>\n",
              "\t<tr><td>Ratts Tyerell        </td><td> 79</td><td>male          </td><td>Aleena        </td></tr>\n",
              "\t<tr><td>Roos Tarpals         </td><td>224</td><td>male          </td><td>Gungan        </td></tr>\n",
              "\t<tr><td>Rugor Nass           </td><td>206</td><td>male          </td><td>Gungan        </td></tr>\n",
              "\t<tr><td>Saesee Tiin          </td><td>188</td><td>male          </td><td>Iktotchi      </td></tr>\n",
              "\t<tr><td>San Hill             </td><td>191</td><td>male          </td><td>Muun          </td></tr>\n",
              "\t<tr><td>Sebulba              </td><td>112</td><td>male          </td><td>Dug           </td></tr>\n",
              "\t<tr><td>Shaak Ti             </td><td>178</td><td>female        </td><td>Togruta       </td></tr>\n",
              "\t<tr><td>Tarfful              </td><td>234</td><td>male          </td><td>Wookiee       </td></tr>\n",
              "\t<tr><td>Taun We              </td><td>213</td><td>female        </td><td>Kaminoan      </td></tr>\n",
              "\t<tr><td>Tion Medon           </td><td>206</td><td>male          </td><td>Pau'an        </td></tr>\n",
              "\t<tr><td>Wat Tambor           </td><td>193</td><td>male          </td><td>Skakoan       </td></tr>\n",
              "\t<tr><td>Watto                </td><td>137</td><td>male          </td><td>Toydarian     </td></tr>\n",
              "\t<tr><td>Wicket Systri Warrick</td><td> 88</td><td>male          </td><td>Ewok          </td></tr>\n",
              "\t<tr><td>Yarael Poof          </td><td>264</td><td>male          </td><td>Quermian      </td></tr>\n",
              "\t<tr><td>Yoda                 </td><td> 66</td><td>male          </td><td>Yoda's species</td></tr>\n",
              "\t<tr><td>Zam Wesell           </td><td>168</td><td>female        </td><td>Clawdite      </td></tr>\n",
              "</tbody>\n",
              "</table>\n"
            ],
            "text/markdown": "\nA tibble: 48 × 4\n\n| name &lt;chr&gt; | height &lt;int&gt; | sex &lt;chr&gt; | species &lt;chr&gt; |\n|---|---|---|---|\n| Ackbar                | 180 | male           | Mon Calamari   |\n| Adi Gallia            | 184 | female         | Tholothian     |\n| Ayla Secura           | 178 | female         | Twi'lek        |\n| BB8                   |  NA | none           | Droid          |\n| Barriss Offee         | 166 | female         | Mirialan       |\n| Ben Quadinaros        | 163 | male           | Toong          |\n| Bib Fortuna           | 180 | male           | Twi'lek        |\n| Bossk                 | 190 | male           | Trandoshan     |\n| C-3PO                 | 167 | none           | Droid          |\n| Chewbacca             | 228 | male           | Wookiee        |\n| Darth Maul            | 175 | male           | Zabrak         |\n| Dexter Jettster       | 198 | male           | Besalisk       |\n| Dud Bolt              |  94 | male           | Vulptereen     |\n| Eeth Koth             | 171 | male           | Zabrak         |\n| Gasgano               | 122 | male           | Xexto          |\n| Greedo                | 173 | male           | Rodian         |\n| Grievous              | 216 | male           | Kaleesh        |\n| IG-88                 | 200 | none           | Droid          |\n| Jabba Desilijic Tiure | 175 | hermaphroditic | Hutt           |\n| Jar Jar Binks         | 196 | male           | Gungan         |\n| Ki-Adi-Mundi          | 198 | male           | Cerean         |\n| Kit Fisto             | 196 | male           | Nautolan       |\n| Lama Su               | 229 | male           | Kaminoan       |\n| Luminara Unduli       | 170 | female         | Mirialan       |\n| Mas Amedda            | 196 | male           | Chagrian       |\n| Nien Nunb             | 160 | male           | Sullustan      |\n| Nute Gunray           | 191 | male           | Neimodian      |\n| Plo Koon              | 188 | male           | Kel Dor        |\n| Poggle the Lesser     | 183 | male           | Geonosian      |\n| R2-D2                 |  96 | none           | Droid          |\n| R4-P17                |  96 | none           | Droid          |\n| R5-D4                 |  97 | none           | Droid          |\n| Ratts Tyerell         |  79 | male           | Aleena         |\n| Roos Tarpals          | 224 | male           | Gungan         |\n| Rugor Nass            | 206 | male           | Gungan         |\n| Saesee Tiin           | 188 | male           | Iktotchi       |\n| San Hill              | 191 | male           | Muun           |\n| Sebulba               | 112 | male           | Dug            |\n| Shaak Ti              | 178 | female         | Togruta        |\n| Tarfful               | 234 | male           | Wookiee        |\n| Taun We               | 213 | female         | Kaminoan       |\n| Tion Medon            | 206 | male           | Pau'an         |\n| Wat Tambor            | 193 | male           | Skakoan        |\n| Watto                 | 137 | male           | Toydarian      |\n| Wicket Systri Warrick |  88 | male           | Ewok           |\n| Yarael Poof           | 264 | male           | Quermian       |\n| Yoda                  |  66 | male           | Yoda's species |\n| Zam Wesell            | 168 | female         | Clawdite       |\n\n",
            "text/latex": "A tibble: 48 × 4\n\\begin{tabular}{llll}\n name & height & sex & species\\\\\n <chr> & <int> & <chr> & <chr>\\\\\n\\hline\n\t Ackbar                & 180 & male           & Mon Calamari  \\\\\n\t Adi Gallia            & 184 & female         & Tholothian    \\\\\n\t Ayla Secura           & 178 & female         & Twi'lek       \\\\\n\t BB8                   &  NA & none           & Droid         \\\\\n\t Barriss Offee         & 166 & female         & Mirialan      \\\\\n\t Ben Quadinaros        & 163 & male           & Toong         \\\\\n\t Bib Fortuna           & 180 & male           & Twi'lek       \\\\\n\t Bossk                 & 190 & male           & Trandoshan    \\\\\n\t C-3PO                 & 167 & none           & Droid         \\\\\n\t Chewbacca             & 228 & male           & Wookiee       \\\\\n\t Darth Maul            & 175 & male           & Zabrak        \\\\\n\t Dexter Jettster       & 198 & male           & Besalisk      \\\\\n\t Dud Bolt              &  94 & male           & Vulptereen    \\\\\n\t Eeth Koth             & 171 & male           & Zabrak        \\\\\n\t Gasgano               & 122 & male           & Xexto         \\\\\n\t Greedo                & 173 & male           & Rodian        \\\\\n\t Grievous              & 216 & male           & Kaleesh       \\\\\n\t IG-88                 & 200 & none           & Droid         \\\\\n\t Jabba Desilijic Tiure & 175 & hermaphroditic & Hutt          \\\\\n\t Jar Jar Binks         & 196 & male           & Gungan        \\\\\n\t Ki-Adi-Mundi          & 198 & male           & Cerean        \\\\\n\t Kit Fisto             & 196 & male           & Nautolan      \\\\\n\t Lama Su               & 229 & male           & Kaminoan      \\\\\n\t Luminara Unduli       & 170 & female         & Mirialan      \\\\\n\t Mas Amedda            & 196 & male           & Chagrian      \\\\\n\t Nien Nunb             & 160 & male           & Sullustan     \\\\\n\t Nute Gunray           & 191 & male           & Neimodian     \\\\\n\t Plo Koon              & 188 & male           & Kel Dor       \\\\\n\t Poggle the Lesser     & 183 & male           & Geonosian     \\\\\n\t R2-D2                 &  96 & none           & Droid         \\\\\n\t R4-P17                &  96 & none           & Droid         \\\\\n\t R5-D4                 &  97 & none           & Droid         \\\\\n\t Ratts Tyerell         &  79 & male           & Aleena        \\\\\n\t Roos Tarpals          & 224 & male           & Gungan        \\\\\n\t Rugor Nass            & 206 & male           & Gungan        \\\\\n\t Saesee Tiin           & 188 & male           & Iktotchi      \\\\\n\t San Hill              & 191 & male           & Muun          \\\\\n\t Sebulba               & 112 & male           & Dug           \\\\\n\t Shaak Ti              & 178 & female         & Togruta       \\\\\n\t Tarfful               & 234 & male           & Wookiee       \\\\\n\t Taun We               & 213 & female         & Kaminoan      \\\\\n\t Tion Medon            & 206 & male           & Pau'an        \\\\\n\t Wat Tambor            & 193 & male           & Skakoan       \\\\\n\t Watto                 & 137 & male           & Toydarian     \\\\\n\t Wicket Systri Warrick &  88 & male           & Ewok          \\\\\n\t Yarael Poof           & 264 & male           & Quermian      \\\\\n\t Yoda                  &  66 & male           & Yoda's species\\\\\n\t Zam Wesell            & 168 & female         & Clawdite      \\\\\n\\end{tabular}\n",
            "text/plain": [
              "   name                  height sex            species       \n",
              "1  Ackbar                180    male           Mon Calamari  \n",
              "2  Adi Gallia            184    female         Tholothian    \n",
              "3  Ayla Secura           178    female         Twi'lek       \n",
              "4  BB8                    NA    none           Droid         \n",
              "5  Barriss Offee         166    female         Mirialan      \n",
              "6  Ben Quadinaros        163    male           Toong         \n",
              "7  Bib Fortuna           180    male           Twi'lek       \n",
              "8  Bossk                 190    male           Trandoshan    \n",
              "9  C-3PO                 167    none           Droid         \n",
              "10 Chewbacca             228    male           Wookiee       \n",
              "11 Darth Maul            175    male           Zabrak        \n",
              "12 Dexter Jettster       198    male           Besalisk      \n",
              "13 Dud Bolt               94    male           Vulptereen    \n",
              "14 Eeth Koth             171    male           Zabrak        \n",
              "15 Gasgano               122    male           Xexto         \n",
              "16 Greedo                173    male           Rodian        \n",
              "17 Grievous              216    male           Kaleesh       \n",
              "18 IG-88                 200    none           Droid         \n",
              "19 Jabba Desilijic Tiure 175    hermaphroditic Hutt          \n",
              "20 Jar Jar Binks         196    male           Gungan        \n",
              "21 Ki-Adi-Mundi          198    male           Cerean        \n",
              "22 Kit Fisto             196    male           Nautolan      \n",
              "23 Lama Su               229    male           Kaminoan      \n",
              "24 Luminara Unduli       170    female         Mirialan      \n",
              "25 Mas Amedda            196    male           Chagrian      \n",
              "26 Nien Nunb             160    male           Sullustan     \n",
              "27 Nute Gunray           191    male           Neimodian     \n",
              "28 Plo Koon              188    male           Kel Dor       \n",
              "29 Poggle the Lesser     183    male           Geonosian     \n",
              "30 R2-D2                  96    none           Droid         \n",
              "31 R4-P17                 96    none           Droid         \n",
              "32 R5-D4                  97    none           Droid         \n",
              "33 Ratts Tyerell          79    male           Aleena        \n",
              "34 Roos Tarpals          224    male           Gungan        \n",
              "35 Rugor Nass            206    male           Gungan        \n",
              "36 Saesee Tiin           188    male           Iktotchi      \n",
              "37 San Hill              191    male           Muun          \n",
              "38 Sebulba               112    male           Dug           \n",
              "39 Shaak Ti              178    female         Togruta       \n",
              "40 Tarfful               234    male           Wookiee       \n",
              "41 Taun We               213    female         Kaminoan      \n",
              "42 Tion Medon            206    male           Pau'an        \n",
              "43 Wat Tambor            193    male           Skakoan       \n",
              "44 Watto                 137    male           Toydarian     \n",
              "45 Wicket Systri Warrick  88    male           Ewok          \n",
              "46 Yarael Poof           264    male           Quermian      \n",
              "47 Yoda                   66    male           Yoda's species\n",
              "48 Zam Wesell            168    female         Clawdite      "
            ]
          },
          "metadata": {}
        }
      ]
    }
  ]
}